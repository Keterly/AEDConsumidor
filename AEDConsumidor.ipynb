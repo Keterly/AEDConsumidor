{
 "cells": [
  {
   "cell_type": "code",
   "execution_count": 149,
   "id": "b0d02dd1",
   "metadata": {},
   "outputs": [],
   "source": [
    "import pandas as pd\n",
    "import matplotlib.pyplot as plt\n",
    "import seaborn as sns\n",
    "import numpy as np"
   ]
  },
  {
   "cell_type": "markdown",
   "id": "074ff56f",
   "metadata": {},
   "source": [
    "1. Qual o número de reclamações por estado? E por cidade?\n",
    "2. Qual estado com o maior número de reclamações? E a cidade?\n",
    "3. Qual o número de reclamações por sexo? \n",
    "4. Qual o número de reclamações por faixa etária? \n",
    "5. Qual a faixa etária dos consumidores por sexo? \n",
    "6. Qual é a média do tempo de resposta das empresas? \n",
    "7. O tempo de resposta tem relação com a nota?\n",
    "8. Qual o número de reclamações por segmento de mercado?\n",
    "9. Qual o tipo de problema com mais reclamação? \n",
    "10. Qual o número de contratação de acordo com o tipo?\n",
    "11. Qual faixa etária contrata mais serviços pela internet?\n",
    "12. A empresa é procurada antes da reclamação? \n",
    "13. Qual o número de respostas das reclamações? "
   ]
  },
  {
   "cell_type": "code",
   "execution_count": 8,
   "id": "e0d48bf6",
   "metadata": {},
   "outputs": [],
   "source": [
    "df = pd.read_csv('2_semestre_2019.csv', sep=';',encoding='latin1')"
   ]
  },
  {
   "cell_type": "code",
   "execution_count": 9,
   "id": "b14e4f22",
   "metadata": {},
   "outputs": [
    {
     "data": {
      "text/html": [
       "<div>\n",
       "<style scoped>\n",
       "    .dataframe tbody tr th:only-of-type {\n",
       "        vertical-align: middle;\n",
       "    }\n",
       "\n",
       "    .dataframe tbody tr th {\n",
       "        vertical-align: top;\n",
       "    }\n",
       "\n",
       "    .dataframe thead th {\n",
       "        text-align: right;\n",
       "    }\n",
       "</style>\n",
       "<table border=\"1\" class=\"dataframe\">\n",
       "  <thead>\n",
       "    <tr style=\"text-align: right;\">\n",
       "      <th></th>\n",
       "      <th>Região</th>\n",
       "      <th>UF</th>\n",
       "      <th>Cidade</th>\n",
       "      <th>Sexo</th>\n",
       "      <th>Faixa Etária</th>\n",
       "      <th>Data Finalização</th>\n",
       "      <th>Tempo Resposta</th>\n",
       "      <th>Nome Fantasia</th>\n",
       "      <th>Segmento de Mercado</th>\n",
       "      <th>Área</th>\n",
       "      <th>Assunto</th>\n",
       "      <th>Grupo Problema</th>\n",
       "      <th>Problema</th>\n",
       "      <th>Como Comprou Contratou</th>\n",
       "      <th>Procurou Empresa</th>\n",
       "      <th>Respondida</th>\n",
       "      <th>Situação</th>\n",
       "      <th>Avaliação Reclamação</th>\n",
       "      <th>Nota do Consumidor</th>\n",
       "      <th>Total</th>\n",
       "    </tr>\n",
       "  </thead>\n",
       "  <tbody>\n",
       "    <tr>\n",
       "      <th>0</th>\n",
       "      <td>NE</td>\n",
       "      <td>PE</td>\n",
       "      <td>Petrolina</td>\n",
       "      <td>M</td>\n",
       "      <td>entre 31 a 40 anos</td>\n",
       "      <td>05/07/2019</td>\n",
       "      <td>10.0</td>\n",
       "      <td>Banco Bradesco</td>\n",
       "      <td>Bancos, Financeiras e Administradoras de Cartão</td>\n",
       "      <td>Serviços Financeiros</td>\n",
       "      <td>Conta corrente / Salário / Poupança /Conta Apo...</td>\n",
       "      <td>Cobrança / Contestação</td>\n",
       "      <td>Cobrança submetendo a ofensa, constrangimento ...</td>\n",
       "      <td>Domicílio</td>\n",
       "      <td>S</td>\n",
       "      <td>S</td>\n",
       "      <td>Finalizada não avaliada</td>\n",
       "      <td>Não Avaliada</td>\n",
       "      <td>NaN</td>\n",
       "      <td>1</td>\n",
       "    </tr>\n",
       "    <tr>\n",
       "      <th>1</th>\n",
       "      <td>SE</td>\n",
       "      <td>SP</td>\n",
       "      <td>São Carlos</td>\n",
       "      <td>F</td>\n",
       "      <td>entre 51 a 60 anos</td>\n",
       "      <td>03/07/2019</td>\n",
       "      <td>NaN</td>\n",
       "      <td>Azul Linhas Aéreas</td>\n",
       "      <td>Transporte Aéreo</td>\n",
       "      <td>Transportes</td>\n",
       "      <td>Cargas e Encomendas</td>\n",
       "      <td>Vício de Qualidade</td>\n",
       "      <td>Extravio/ avaria de bagagem, carga, correspond...</td>\n",
       "      <td>Loja física</td>\n",
       "      <td>S</td>\n",
       "      <td>N</td>\n",
       "      <td>Finalizada não avaliada</td>\n",
       "      <td>Não Avaliada</td>\n",
       "      <td>NaN</td>\n",
       "      <td>1</td>\n",
       "    </tr>\n",
       "    <tr>\n",
       "      <th>2</th>\n",
       "      <td>SE</td>\n",
       "      <td>SP</td>\n",
       "      <td>São Paulo</td>\n",
       "      <td>M</td>\n",
       "      <td>entre 31 a 40 anos</td>\n",
       "      <td>03/07/2019</td>\n",
       "      <td>NaN</td>\n",
       "      <td>Samsung</td>\n",
       "      <td>Fabricantes - Eletroeletrônicos,  Produtos de ...</td>\n",
       "      <td>Produtos de Telefonia e Informática</td>\n",
       "      <td>Aparelho celular</td>\n",
       "      <td>Entrega do Produto</td>\n",
       "      <td>Produto entregue incompleto / diferente do  pe...</td>\n",
       "      <td>Ganhei de presente</td>\n",
       "      <td>S</td>\n",
       "      <td>N</td>\n",
       "      <td>Finalizada não avaliada</td>\n",
       "      <td>Não Avaliada</td>\n",
       "      <td>NaN</td>\n",
       "      <td>1</td>\n",
       "    </tr>\n",
       "    <tr>\n",
       "      <th>3</th>\n",
       "      <td>SE</td>\n",
       "      <td>RJ</td>\n",
       "      <td>Rio de Janeiro</td>\n",
       "      <td>F</td>\n",
       "      <td>entre 61 a 70 anos</td>\n",
       "      <td>02/07/2019</td>\n",
       "      <td>10.0</td>\n",
       "      <td>Tim</td>\n",
       "      <td>Operadoras de Telecomunicações (Telefonia, Int...</td>\n",
       "      <td>Produtos de Telefonia e Informática</td>\n",
       "      <td>Aparelho celular</td>\n",
       "      <td>Contrato / Oferta</td>\n",
       "      <td>Oferta não cumprida / serviço não fornecido/ v...</td>\n",
       "      <td>Internet</td>\n",
       "      <td>S</td>\n",
       "      <td>S</td>\n",
       "      <td>Finalizada não avaliada</td>\n",
       "      <td>Não Avaliada</td>\n",
       "      <td>NaN</td>\n",
       "      <td>1</td>\n",
       "    </tr>\n",
       "    <tr>\n",
       "      <th>4</th>\n",
       "      <td>NE</td>\n",
       "      <td>PE</td>\n",
       "      <td>Recife</td>\n",
       "      <td>M</td>\n",
       "      <td>entre 21 a 30 anos</td>\n",
       "      <td>04/07/2019</td>\n",
       "      <td>10.0</td>\n",
       "      <td>Vivo - Telefônica (GVT)</td>\n",
       "      <td>Operadoras de Telecomunicações (Telefonia, Int...</td>\n",
       "      <td>Telecomunicações</td>\n",
       "      <td>Internet Fixa</td>\n",
       "      <td>Vício de Qualidade</td>\n",
       "      <td>Suspensão ou desligamento indevido do serviço</td>\n",
       "      <td>Não comprei / contratei</td>\n",
       "      <td>S</td>\n",
       "      <td>S</td>\n",
       "      <td>Finalizada avaliada</td>\n",
       "      <td>Não Resolvida</td>\n",
       "      <td>1.0</td>\n",
       "      <td>1</td>\n",
       "    </tr>\n",
       "  </tbody>\n",
       "</table>\n",
       "</div>"
      ],
      "text/plain": [
       "  Região  UF          Cidade Sexo        Faixa Etária Data Finalização  \\\n",
       "0     NE  PE       Petrolina    M  entre 31 a 40 anos       05/07/2019   \n",
       "1     SE  SP      São Carlos    F  entre 51 a 60 anos       03/07/2019   \n",
       "2     SE  SP       São Paulo    M  entre 31 a 40 anos       03/07/2019   \n",
       "3     SE  RJ  Rio de Janeiro    F  entre 61 a 70 anos       02/07/2019   \n",
       "4     NE  PE          Recife    M  entre 21 a 30 anos       04/07/2019   \n",
       "\n",
       "   Tempo Resposta            Nome Fantasia  \\\n",
       "0            10.0           Banco Bradesco   \n",
       "1             NaN       Azul Linhas Aéreas   \n",
       "2             NaN                  Samsung   \n",
       "3            10.0                      Tim   \n",
       "4            10.0  Vivo - Telefônica (GVT)   \n",
       "\n",
       "                                 Segmento de Mercado  \\\n",
       "0    Bancos, Financeiras e Administradoras de Cartão   \n",
       "1                                   Transporte Aéreo   \n",
       "2  Fabricantes - Eletroeletrônicos,  Produtos de ...   \n",
       "3  Operadoras de Telecomunicações (Telefonia, Int...   \n",
       "4  Operadoras de Telecomunicações (Telefonia, Int...   \n",
       "\n",
       "                                  Área  \\\n",
       "0                 Serviços Financeiros   \n",
       "1                          Transportes   \n",
       "2  Produtos de Telefonia e Informática   \n",
       "3  Produtos de Telefonia e Informática   \n",
       "4                     Telecomunicações   \n",
       "\n",
       "                                             Assunto          Grupo Problema  \\\n",
       "0  Conta corrente / Salário / Poupança /Conta Apo...  Cobrança / Contestação   \n",
       "1                                Cargas e Encomendas      Vício de Qualidade   \n",
       "2                                   Aparelho celular      Entrega do Produto   \n",
       "3                                   Aparelho celular       Contrato / Oferta   \n",
       "4                                      Internet Fixa      Vício de Qualidade   \n",
       "\n",
       "                                            Problema   Como Comprou Contratou  \\\n",
       "0  Cobrança submetendo a ofensa, constrangimento ...                Domicílio   \n",
       "1  Extravio/ avaria de bagagem, carga, correspond...              Loja física   \n",
       "2  Produto entregue incompleto / diferente do  pe...       Ganhei de presente   \n",
       "3  Oferta não cumprida / serviço não fornecido/ v...                 Internet   \n",
       "4      Suspensão ou desligamento indevido do serviço  Não comprei / contratei   \n",
       "\n",
       "  Procurou Empresa Respondida                 Situação Avaliação Reclamação  \\\n",
       "0                S          S  Finalizada não avaliada         Não Avaliada   \n",
       "1                S          N  Finalizada não avaliada         Não Avaliada   \n",
       "2                S          N  Finalizada não avaliada         Não Avaliada   \n",
       "3                S          S  Finalizada não avaliada         Não Avaliada   \n",
       "4                S          S      Finalizada avaliada        Não Resolvida   \n",
       "\n",
       "   Nota do Consumidor  Total  \n",
       "0                 NaN      1  \n",
       "1                 NaN      1  \n",
       "2                 NaN      1  \n",
       "3                 NaN      1  \n",
       "4                 1.0      1  "
      ]
     },
     "execution_count": 9,
     "metadata": {},
     "output_type": "execute_result"
    }
   ],
   "source": [
    "df.head()"
   ]
  },
  {
   "cell_type": "markdown",
   "id": "897eaadd",
   "metadata": {},
   "source": [
    "# Reclamações por estado"
   ]
  },
  {
   "cell_type": "code",
   "execution_count": 31,
   "id": "ecdc0f7e",
   "metadata": {},
   "outputs": [
    {
     "data": {
      "text/plain": [
       "UF\n",
       "AC      1212\n",
       "AL      2819\n",
       "AM      3634\n",
       "AP       593\n",
       "BA     21097\n",
       "CE     12583\n",
       "DF     18117\n",
       "ES     10549\n",
       "GO     12893\n",
       "MA      9875\n",
       "MG     36872\n",
       "MS      7503\n",
       "MT      8286\n",
       "PA      5015\n",
       "PB      5749\n",
       "PE     13304\n",
       "PI      4418\n",
       "PR     41880\n",
       "RJ     36482\n",
       "RN      2983\n",
       "RO      1849\n",
       "RR       698\n",
       "RS     31627\n",
       "SC     15949\n",
       "SE      2512\n",
       "SP    113024\n",
       "TO      1868\n",
       "Name: UF, dtype: int64"
      ]
     },
     "execution_count": 31,
     "metadata": {},
     "output_type": "execute_result"
    }
   ],
   "source": [
    "estado = df.groupby('UF')['UF'].count()\n",
    "estado"
   ]
  },
  {
   "cell_type": "code",
   "execution_count": 30,
   "id": "be2d7490",
   "metadata": {},
   "outputs": [
    {
     "data": {
      "text/plain": [
       "Cidade\n",
       "?ngelo Frechiani        1\n",
       "Abadia de Goiás        13\n",
       "Abadia dos Dourados     3\n",
       "Abadiânia               6\n",
       "Abaetetuba             44\n",
       "                       ..\n",
       "Águia Branca            2\n",
       "Álvares Florence        2\n",
       "Álvares Machado        31\n",
       "Ângulo                  4\n",
       "Óbidos                  6\n",
       "Name: Cidade, Length: 4838, dtype: int64"
      ]
     },
     "execution_count": 30,
     "metadata": {},
     "output_type": "execute_result"
    }
   ],
   "source": [
    "df.groupby('Cidade')['Cidade'].count()"
   ]
  },
  {
   "cell_type": "code",
   "execution_count": 39,
   "id": "caf26009",
   "metadata": {},
   "outputs": [
    {
     "data": {
      "text/plain": [
       "<AxesSubplot:xlabel='UF'>"
      ]
     },
     "execution_count": 39,
     "metadata": {},
     "output_type": "execute_result"
    },
    {
     "data": {
      "image/png": "[encoded data removed]",
      "text/plain": [
       "<Figure size 432x288 with 1 Axes>"
      ]
     },
     "metadata": {
      "needs_background": "light"
     },
     "output_type": "display_data"
    }
   ],
   "source": [
    "estado.plot.bar()"
   ]
  },
  {
   "cell_type": "markdown",
   "id": "182cd0cc",
   "metadata": {},
   "source": [
    "# Reclamações por sexo"
   ]
  },
  {
   "cell_type": "code",
   "execution_count": 63,
   "id": "6a61d999",
   "metadata": {},
   "outputs": [
    {
     "data": {
      "text/plain": [
       "M    244566\n",
       "F    178825\n",
       "Name: Sexo, dtype: int64"
      ]
     },
     "execution_count": 63,
     "metadata": {},
     "output_type": "execute_result"
    }
   ],
   "source": [
    "sexo = df['Sexo'].value_counts()\n",
    "sexo"
   ]
  },
  {
   "cell_type": "code",
   "execution_count": 61,
   "id": "0f13912a",
   "metadata": {},
   "outputs": [],
   "source": [
    "x = df['Sexo'].unique()"
   ]
  },
  {
   "cell_type": "code",
   "execution_count": 68,
   "id": "51226b60",
   "metadata": {},
   "outputs": [
    {
     "data": {
      "text/plain": [
       "<AxesSubplot:ylabel='Sexo'>"
      ]
     },
     "execution_count": 68,
     "metadata": {},
     "output_type": "execute_result"
    },
    {
     "data": {
      "image/png": "[encoded data removed]",
      "text/plain": [
       "<Figure size 432x288 with 1 Axes>"
      ]
     },
     "metadata": {
      "needs_background": "light"
     },
     "output_type": "display_data"
    }
   ],
   "source": [
    "sns.barplot(x=x,y=sexo,hue=sexo)"
   ]
  },
  {
   "cell_type": "markdown",
   "id": "6c4de92b",
   "metadata": {},
   "source": [
    "# Faixa Etária "
   ]
  },
  {
   "cell_type": "code",
   "execution_count": 76,
   "id": "6e15d53c",
   "metadata": {},
   "outputs": [
    {
     "data": {
      "text/plain": [
       "Sexo  Faixa Etária      \n",
       "F     entre 31 a 40 anos    52440\n",
       "      entre 21 a 30 anos    46660\n",
       "      entre 41 a 50 anos    29622\n",
       "      entre 51 a 60 anos    22432\n",
       "      entre 61 a 70 anos    16386\n",
       "      mais de 70 anos        7388\n",
       "      até 20 anos            3897\n",
       "M     entre 31 a 40 anos    84325\n",
       "      entre 21 a 30 anos    72753\n",
       "      entre 41 a 50 anos    39380\n",
       "      entre 51 a 60 anos    21595\n",
       "      entre 61 a 70 anos    14475\n",
       "      mais de 70 anos        6591\n",
       "      até 20 anos            5447\n",
       "Name: Faixa Etária, dtype: int64"
      ]
     },
     "execution_count": 76,
     "metadata": {},
     "output_type": "execute_result"
    }
   ],
   "source": [
    "faixa_sexo = df.groupby('Sexo')['Faixa Etária'].value_counts()\n",
    "faixa_sexo"
   ]
  },
  {
   "cell_type": "code",
   "execution_count": 78,
   "id": "5f3d9f39",
   "metadata": {},
   "outputs": [
    {
     "data": {
      "text/plain": [
       "<AxesSubplot:ylabel='Sexo,Faixa Etária'>"
      ]
     },
     "execution_count": 78,
     "metadata": {},
     "output_type": "execute_result"
    },
    {
     "data": {
      "image/png": "[encoded data removed]",
      "text/plain": [
       "<Figure size 432x288 with 1 Axes>"
      ]
     },
     "metadata": {
      "needs_background": "light"
     },
     "output_type": "display_data"
    }
   ],
   "source": [
    "faixa_sexo.plot.barh()"
   ]
  },
  {
   "cell_type": "code",
   "execution_count": 80,
   "id": "ccd996d0",
   "metadata": {},
   "outputs": [
    {
     "data": {
      "text/plain": [
       "entre 31 a 40 anos    136765\n",
       "entre 21 a 30 anos    119413\n",
       "entre 41 a 50 anos     69002\n",
       "entre 51 a 60 anos     44027\n",
       "entre 61 a 70 anos     30861\n",
       "mais de 70 anos        13979\n",
       "até 20 anos             9344\n",
       "Name: Faixa Etária, dtype: int64"
      ]
     },
     "execution_count": 80,
     "metadata": {},
     "output_type": "execute_result"
    }
   ],
   "source": [
    "faixa_etaria = df['Faixa Etária'].value_counts()\n",
    "faixa_etaria"
   ]
  },
  {
   "cell_type": "code",
   "execution_count": 85,
   "id": "0ac17511",
   "metadata": {},
   "outputs": [
    {
     "data": {
      "text/plain": [
       "<AxesSubplot:>"
      ]
     },
     "execution_count": 85,
     "metadata": {},
     "output_type": "execute_result"
    },
    {
     "data": {
      "image/png": "[encoded data removed]",
      "text/plain": [
       "<Figure size 432x288 with 1 Axes>"
      ]
     },
     "metadata": {
      "needs_background": "light"
     },
     "output_type": "display_data"
    }
   ],
   "source": [
    "faixa_etaria.plot.barh()"
   ]
  },
  {
   "cell_type": "markdown",
   "id": "01d00abc",
   "metadata": {},
   "source": [
    "# Serviços contratados"
   ]
  },
  {
   "cell_type": "code",
   "execution_count": 87,
   "id": "488e3523",
   "metadata": {},
   "outputs": [
    {
     "data": {
      "text/plain": [
       "Como Comprou Contratou\n",
       "Catálogo                     1715\n",
       "Domicílio                   10072\n",
       "Ganhei de presente           1949\n",
       "Internet                   156799\n",
       "Loja física                 89122\n",
       "Não comprei / contratei     75831\n",
       "SMS / Mensagem de texto      2098\n",
       "Stand, feiras e eventos      1723\n",
       "Telefone                    84082\n",
       "Name: Como Comprou Contratou, dtype: int64"
      ]
     },
     "execution_count": 87,
     "metadata": {},
     "output_type": "execute_result"
    }
   ],
   "source": [
    "servico = df.groupby('Como Comprou Contratou')['Como Comprou Contratou'].count()\n",
    "servico"
   ]
  },
  {
   "cell_type": "code",
   "execution_count": 128,
   "id": "9f72e1f9",
   "metadata": {},
   "outputs": [
    {
     "data": {
      "text/plain": [
       "<AxesSubplot:ylabel='Como Comprou Contratou'>"
      ]
     },
     "execution_count": 128,
     "metadata": {},
     "output_type": "execute_result"
    },
    {
     "data": {
      "image/png": "[encoded data removed]",
      "text/plain": [
       "<Figure size 432x288 with 1 Axes>"
      ]
     },
     "metadata": {
      "needs_background": "light"
     },
     "output_type": "display_data"
    }
   ],
   "source": [
    "servico.plot.barh()"
   ]
  },
  {
   "cell_type": "code",
   "execution_count": 90,
   "id": "963d4a84",
   "metadata": {},
   "outputs": [
    {
     "data": {
      "text/plain": [
       "Como Comprou Contratou   Sexo\n",
       "Catálogo                 M          876\n",
       "                         F          839\n",
       "Domicílio                M         5402\n",
       "                         F         4670\n",
       "Ganhei de presente       M         1082\n",
       "                         F          867\n",
       "Internet                 M       100539\n",
       "                         F        56260\n",
       "Loja física              M        47392\n",
       "                         F        41730\n",
       "Não comprei / contratei  M        40238\n",
       "                         F        35593\n",
       "SMS / Mensagem de texto  M         1185\n",
       "                         F          913\n",
       "Stand, feiras e eventos  M         1017\n",
       "                         F          706\n",
       "Telefone                 M        46835\n",
       "                         F        37247\n",
       "Name: Sexo, dtype: int64"
      ]
     },
     "execution_count": 90,
     "metadata": {},
     "output_type": "execute_result"
    }
   ],
   "source": [
    "servico_genero = df.groupby('Como Comprou Contratou')['Sexo'].value_counts()\n",
    "servico_genero"
   ]
  },
  {
   "cell_type": "code",
   "execution_count": 130,
   "id": "88643151",
   "metadata": {},
   "outputs": [
    {
     "data": {
      "text/plain": [
       "<AxesSubplot:xlabel='Como Comprou Contratou,Sexo'>"
      ]
     },
     "execution_count": 130,
     "metadata": {},
     "output_type": "execute_result"
    },
    {
     "data": {
      "image/png": "[encoded data removed]",
      "text/plain": [
       "<Figure size 432x288 with 1 Axes>"
      ]
     },
     "metadata": {
      "needs_background": "light"
     },
     "output_type": "display_data"
    }
   ],
   "source": [
    "servico_genero.plot.bar()"
   ]
  },
  {
   "cell_type": "code",
   "execution_count": 91,
   "id": "680086c4",
   "metadata": {},
   "outputs": [
    {
     "data": {
      "text/plain": [
       "Como Comprou Contratou  Faixa Etária      \n",
       "Catálogo                entre 21 a 30 anos      589\n",
       "                        entre 31 a 40 anos      537\n",
       "                        entre 41 a 50 anos      265\n",
       "                        entre 51 a 60 anos      160\n",
       "                        entre 61 a 70 anos       86\n",
       "                                              ...  \n",
       "Telefone                entre 41 a 50 anos    14193\n",
       "                        entre 51 a 60 anos    10233\n",
       "                        entre 61 a 70 anos     7191\n",
       "                        mais de 70 anos        3208\n",
       "                        até 20 anos            1396\n",
       "Name: Faixa Etária, Length: 63, dtype: int64"
      ]
     },
     "execution_count": 91,
     "metadata": {},
     "output_type": "execute_result"
    }
   ],
   "source": [
    "servico_idade = df.groupby('Como Comprou Contratou')['Faixa Etária'].value_counts()\n",
    "servico_idade"
   ]
  },
  {
   "cell_type": "markdown",
   "id": "28b1f193",
   "metadata": {},
   "source": [
    "1. Qual faixa etária contrata mais serviços pela internet? E por telefone?"
   ]
  },
  {
   "cell_type": "code",
   "execution_count": 95,
   "id": "50a63cea",
   "metadata": {},
   "outputs": [
    {
     "data": {
      "text/html": [
       "<div>\n",
       "<style scoped>\n",
       "    .dataframe tbody tr th:only-of-type {\n",
       "        vertical-align: middle;\n",
       "    }\n",
       "\n",
       "    .dataframe tbody tr th {\n",
       "        vertical-align: top;\n",
       "    }\n",
       "\n",
       "    .dataframe thead th {\n",
       "        text-align: right;\n",
       "    }\n",
       "</style>\n",
       "<table border=\"1\" class=\"dataframe\">\n",
       "  <thead>\n",
       "    <tr style=\"text-align: right;\">\n",
       "      <th></th>\n",
       "      <th>Região</th>\n",
       "      <th>UF</th>\n",
       "      <th>Cidade</th>\n",
       "      <th>Sexo</th>\n",
       "      <th>Faixa Etária</th>\n",
       "      <th>Data Finalização</th>\n",
       "      <th>Tempo Resposta</th>\n",
       "      <th>Nome Fantasia</th>\n",
       "      <th>Segmento de Mercado</th>\n",
       "      <th>Área</th>\n",
       "      <th>Assunto</th>\n",
       "      <th>Grupo Problema</th>\n",
       "      <th>Problema</th>\n",
       "      <th>Como Comprou Contratou</th>\n",
       "      <th>Procurou Empresa</th>\n",
       "      <th>Respondida</th>\n",
       "      <th>Situação</th>\n",
       "      <th>Avaliação Reclamação</th>\n",
       "      <th>Nota do Consumidor</th>\n",
       "      <th>Total</th>\n",
       "    </tr>\n",
       "  </thead>\n",
       "  <tbody>\n",
       "    <tr>\n",
       "      <th>3</th>\n",
       "      <td>SE</td>\n",
       "      <td>RJ</td>\n",
       "      <td>Rio de Janeiro</td>\n",
       "      <td>F</td>\n",
       "      <td>entre 61 a 70 anos</td>\n",
       "      <td>02/07/2019</td>\n",
       "      <td>10.0</td>\n",
       "      <td>Tim</td>\n",
       "      <td>Operadoras de Telecomunicações (Telefonia, Int...</td>\n",
       "      <td>Produtos de Telefonia e Informática</td>\n",
       "      <td>Aparelho celular</td>\n",
       "      <td>Contrato / Oferta</td>\n",
       "      <td>Oferta não cumprida / serviço não fornecido/ v...</td>\n",
       "      <td>Internet</td>\n",
       "      <td>S</td>\n",
       "      <td>S</td>\n",
       "      <td>Finalizada não avaliada</td>\n",
       "      <td>Não Avaliada</td>\n",
       "      <td>NaN</td>\n",
       "      <td>1</td>\n",
       "    </tr>\n",
       "    <tr>\n",
       "      <th>6</th>\n",
       "      <td>SE</td>\n",
       "      <td>RJ</td>\n",
       "      <td>Rio de Janeiro</td>\n",
       "      <td>F</td>\n",
       "      <td>entre 41 a 50 anos</td>\n",
       "      <td>01/07/2019</td>\n",
       "      <td>10.0</td>\n",
       "      <td>Extra.com</td>\n",
       "      <td>Comércio Eletrônico</td>\n",
       "      <td>Produtos de Telefonia e Informática</td>\n",
       "      <td>Acessórios e periféricos (monitor, impressora,...</td>\n",
       "      <td>Cobrança / Contestação</td>\n",
       "      <td>Dificuldade / atraso na devolução de valores p...</td>\n",
       "      <td>Internet</td>\n",
       "      <td>S</td>\n",
       "      <td>S</td>\n",
       "      <td>Finalizada avaliada</td>\n",
       "      <td>Não Resolvida</td>\n",
       "      <td>1.0</td>\n",
       "      <td>1</td>\n",
       "    </tr>\n",
       "    <tr>\n",
       "      <th>11</th>\n",
       "      <td>NE</td>\n",
       "      <td>BA</td>\n",
       "      <td>Morro do Chapéu</td>\n",
       "      <td>F</td>\n",
       "      <td>entre 61 a 70 anos</td>\n",
       "      <td>02/07/2019</td>\n",
       "      <td>10.0</td>\n",
       "      <td>Vivo - Telefônica (GVT)</td>\n",
       "      <td>Operadoras de Telecomunicações (Telefonia, Int...</td>\n",
       "      <td>Telecomunicações</td>\n",
       "      <td>Telefonia Móvel Pré-paga</td>\n",
       "      <td>Cobrança / Contestação</td>\n",
       "      <td>Cobrança por serviço/produto não contratado / ...</td>\n",
       "      <td>Internet</td>\n",
       "      <td>S</td>\n",
       "      <td>S</td>\n",
       "      <td>Finalizada não avaliada</td>\n",
       "      <td>Não Avaliada</td>\n",
       "      <td>NaN</td>\n",
       "      <td>1</td>\n",
       "    </tr>\n",
       "    <tr>\n",
       "      <th>15</th>\n",
       "      <td>SE</td>\n",
       "      <td>RJ</td>\n",
       "      <td>Rio de Janeiro</td>\n",
       "      <td>F</td>\n",
       "      <td>entre 21 a 30 anos</td>\n",
       "      <td>05/07/2019</td>\n",
       "      <td>8.0</td>\n",
       "      <td>Casasbahia.com</td>\n",
       "      <td>Comércio Eletrônico</td>\n",
       "      <td>Produtos Eletrodomésticos e Eletrônicos</td>\n",
       "      <td>Eletroportáteis ( batedeira, liquidificador, u...</td>\n",
       "      <td>Atendimento / SAC</td>\n",
       "      <td>Má qualidade no atendimento (descortesia / des...</td>\n",
       "      <td>Internet</td>\n",
       "      <td>S</td>\n",
       "      <td>S</td>\n",
       "      <td>Finalizada não avaliada</td>\n",
       "      <td>Não Avaliada</td>\n",
       "      <td>NaN</td>\n",
       "      <td>1</td>\n",
       "    </tr>\n",
       "    <tr>\n",
       "      <th>16</th>\n",
       "      <td>SE</td>\n",
       "      <td>RJ</td>\n",
       "      <td>Rio de Janeiro</td>\n",
       "      <td>M</td>\n",
       "      <td>entre 21 a 30 anos</td>\n",
       "      <td>05/07/2019</td>\n",
       "      <td>8.0</td>\n",
       "      <td>Mercado Pago</td>\n",
       "      <td>Empresas de Pagamento Eletrônico</td>\n",
       "      <td>Serviços Financeiros</td>\n",
       "      <td>Serviço de pagamento online/ via celular/ maqu...</td>\n",
       "      <td>Contrato / Oferta</td>\n",
       "      <td>Dificuldade para rescindir o contrato / cancel...</td>\n",
       "      <td>Internet</td>\n",
       "      <td>S</td>\n",
       "      <td>S</td>\n",
       "      <td>Finalizada não avaliada</td>\n",
       "      <td>Não Avaliada</td>\n",
       "      <td>NaN</td>\n",
       "      <td>1</td>\n",
       "    </tr>\n",
       "    <tr>\n",
       "      <th>...</th>\n",
       "      <td>...</td>\n",
       "      <td>...</td>\n",
       "      <td>...</td>\n",
       "      <td>...</td>\n",
       "      <td>...</td>\n",
       "      <td>...</td>\n",
       "      <td>...</td>\n",
       "      <td>...</td>\n",
       "      <td>...</td>\n",
       "      <td>...</td>\n",
       "      <td>...</td>\n",
       "      <td>...</td>\n",
       "      <td>...</td>\n",
       "      <td>...</td>\n",
       "      <td>...</td>\n",
       "      <td>...</td>\n",
       "      <td>...</td>\n",
       "      <td>...</td>\n",
       "      <td>...</td>\n",
       "      <td>...</td>\n",
       "    </tr>\n",
       "    <tr>\n",
       "      <th>423380</th>\n",
       "      <td>SE</td>\n",
       "      <td>MG</td>\n",
       "      <td>Itabira</td>\n",
       "      <td>F</td>\n",
       "      <td>entre 31 a 40 anos</td>\n",
       "      <td>30/12/2019</td>\n",
       "      <td>10.0</td>\n",
       "      <td>Casasbahia.com</td>\n",
       "      <td>Comércio Eletrônico</td>\n",
       "      <td>Produtos Eletrodomésticos e Eletrônicos</td>\n",
       "      <td>Lavadora de roupa, louça e secadora</td>\n",
       "      <td>Entrega do Produto</td>\n",
       "      <td>Não entrega / demora na entrega do produto</td>\n",
       "      <td>Internet</td>\n",
       "      <td>S</td>\n",
       "      <td>S</td>\n",
       "      <td>Finalizada avaliada</td>\n",
       "      <td>Resolvida</td>\n",
       "      <td>3.0</td>\n",
       "      <td>1</td>\n",
       "    </tr>\n",
       "    <tr>\n",
       "      <th>423381</th>\n",
       "      <td>SE</td>\n",
       "      <td>RJ</td>\n",
       "      <td>Duque de Caxias</td>\n",
       "      <td>F</td>\n",
       "      <td>entre 21 a 30 anos</td>\n",
       "      <td>19/12/2019</td>\n",
       "      <td>0.0</td>\n",
       "      <td>Boa Vista Serviços - SCPC (Serviço Central de ...</td>\n",
       "      <td>Bancos de Dados e Cadastros de Consumidores</td>\n",
       "      <td>Serviços Financeiros</td>\n",
       "      <td>Banco de Dados e Cadastros de Consumidores (SP...</td>\n",
       "      <td>Informação</td>\n",
       "      <td>Dados pessoais ou financeiros consultados, col...</td>\n",
       "      <td>Internet</td>\n",
       "      <td>N</td>\n",
       "      <td>S</td>\n",
       "      <td>Finalizada avaliada</td>\n",
       "      <td>Não Resolvida</td>\n",
       "      <td>3.0</td>\n",
       "      <td>1</td>\n",
       "    </tr>\n",
       "    <tr>\n",
       "      <th>423385</th>\n",
       "      <td>S</td>\n",
       "      <td>PR</td>\n",
       "      <td>São José do Ivaí</td>\n",
       "      <td>F</td>\n",
       "      <td>até 20 anos</td>\n",
       "      <td>24/12/2019</td>\n",
       "      <td>3.0</td>\n",
       "      <td>Mercado Livre</td>\n",
       "      <td>Empresas de Intermediação de Serviços / Negócios</td>\n",
       "      <td>Produtos de Telefonia e Informática</td>\n",
       "      <td>Aparelho celular</td>\n",
       "      <td>Saúde e Segurança</td>\n",
       "      <td>Risco, dano físico ou mal estar decorrente da ...</td>\n",
       "      <td>Internet</td>\n",
       "      <td>S</td>\n",
       "      <td>S</td>\n",
       "      <td>Finalizada avaliada</td>\n",
       "      <td>Resolvida</td>\n",
       "      <td>4.0</td>\n",
       "      <td>1</td>\n",
       "    </tr>\n",
       "    <tr>\n",
       "      <th>423387</th>\n",
       "      <td>SE</td>\n",
       "      <td>SP</td>\n",
       "      <td>São Paulo</td>\n",
       "      <td>F</td>\n",
       "      <td>entre 31 a 40 anos</td>\n",
       "      <td>27/12/2019</td>\n",
       "      <td>3.0</td>\n",
       "      <td>Tim</td>\n",
       "      <td>Operadoras de Telecomunicações (Telefonia, Int...</td>\n",
       "      <td>Telecomunicações</td>\n",
       "      <td>Telefonia Móvel Pré-paga</td>\n",
       "      <td>Cobrança / Contestação</td>\n",
       "      <td>Negativação indevida (SPC, Serasa, SCPC etc)</td>\n",
       "      <td>Internet</td>\n",
       "      <td>S</td>\n",
       "      <td>S</td>\n",
       "      <td>Finalizada avaliada</td>\n",
       "      <td>Resolvida</td>\n",
       "      <td>4.0</td>\n",
       "      <td>1</td>\n",
       "    </tr>\n",
       "    <tr>\n",
       "      <th>423388</th>\n",
       "      <td>SE</td>\n",
       "      <td>RJ</td>\n",
       "      <td>São João de Meriti</td>\n",
       "      <td>F</td>\n",
       "      <td>entre 61 a 70 anos</td>\n",
       "      <td>21/12/2019</td>\n",
       "      <td>2.0</td>\n",
       "      <td>Mercado Pago</td>\n",
       "      <td>Empresas de Pagamento Eletrônico</td>\n",
       "      <td>Serviços Financeiros</td>\n",
       "      <td>Serviço de pagamento online/ via celular/ maqu...</td>\n",
       "      <td>Cobrança / Contestação</td>\n",
       "      <td>Cobrança de tarifas, taxas, valores não previs...</td>\n",
       "      <td>Internet</td>\n",
       "      <td>S</td>\n",
       "      <td>S</td>\n",
       "      <td>Finalizada não avaliada</td>\n",
       "      <td>Não Avaliada</td>\n",
       "      <td>NaN</td>\n",
       "      <td>1</td>\n",
       "    </tr>\n",
       "  </tbody>\n",
       "</table>\n",
       "<p>156799 rows × 20 columns</p>\n",
       "</div>"
      ],
      "text/plain": [
       "       Região  UF              Cidade Sexo        Faixa Etária  \\\n",
       "3          SE  RJ      Rio de Janeiro    F  entre 61 a 70 anos   \n",
       "6          SE  RJ      Rio de Janeiro    F  entre 41 a 50 anos   \n",
       "11         NE  BA     Morro do Chapéu    F  entre 61 a 70 anos   \n",
       "15         SE  RJ      Rio de Janeiro    F  entre 21 a 30 anos   \n",
       "16         SE  RJ      Rio de Janeiro    M  entre 21 a 30 anos   \n",
       "...       ...  ..                 ...  ...                 ...   \n",
       "423380     SE  MG             Itabira    F  entre 31 a 40 anos   \n",
       "423381     SE  RJ     Duque de Caxias    F  entre 21 a 30 anos   \n",
       "423385     S   PR    São José do Ivaí    F         até 20 anos   \n",
       "423387     SE  SP           São Paulo    F  entre 31 a 40 anos   \n",
       "423388     SE  RJ  São João de Meriti    F  entre 61 a 70 anos   \n",
       "\n",
       "       Data Finalização  Tempo Resposta  \\\n",
       "3            02/07/2019            10.0   \n",
       "6            01/07/2019            10.0   \n",
       "11           02/07/2019            10.0   \n",
       "15           05/07/2019             8.0   \n",
       "16           05/07/2019             8.0   \n",
       "...                 ...             ...   \n",
       "423380       30/12/2019            10.0   \n",
       "423381       19/12/2019             0.0   \n",
       "423385       24/12/2019             3.0   \n",
       "423387       27/12/2019             3.0   \n",
       "423388       21/12/2019             2.0   \n",
       "\n",
       "                                            Nome Fantasia  \\\n",
       "3                                                     Tim   \n",
       "6                                               Extra.com   \n",
       "11                                Vivo - Telefônica (GVT)   \n",
       "15                                         Casasbahia.com   \n",
       "16                                           Mercado Pago   \n",
       "...                                                   ...   \n",
       "423380                                     Casasbahia.com   \n",
       "423381  Boa Vista Serviços - SCPC (Serviço Central de ...   \n",
       "423385                                      Mercado Livre   \n",
       "423387                                                Tim   \n",
       "423388                                       Mercado Pago   \n",
       "\n",
       "                                      Segmento de Mercado  \\\n",
       "3       Operadoras de Telecomunicações (Telefonia, Int...   \n",
       "6                                     Comércio Eletrônico   \n",
       "11      Operadoras de Telecomunicações (Telefonia, Int...   \n",
       "15                                    Comércio Eletrônico   \n",
       "16                       Empresas de Pagamento Eletrônico   \n",
       "...                                                   ...   \n",
       "423380                                Comércio Eletrônico   \n",
       "423381        Bancos de Dados e Cadastros de Consumidores   \n",
       "423385   Empresas de Intermediação de Serviços / Negócios   \n",
       "423387  Operadoras de Telecomunicações (Telefonia, Int...   \n",
       "423388                   Empresas de Pagamento Eletrônico   \n",
       "\n",
       "                                           Área  \\\n",
       "3           Produtos de Telefonia e Informática   \n",
       "6           Produtos de Telefonia e Informática   \n",
       "11                             Telecomunicações   \n",
       "15      Produtos Eletrodomésticos e Eletrônicos   \n",
       "16                         Serviços Financeiros   \n",
       "...                                         ...   \n",
       "423380  Produtos Eletrodomésticos e Eletrônicos   \n",
       "423381                     Serviços Financeiros   \n",
       "423385      Produtos de Telefonia e Informática   \n",
       "423387                         Telecomunicações   \n",
       "423388                     Serviços Financeiros   \n",
       "\n",
       "                                                  Assunto  \\\n",
       "3                                        Aparelho celular   \n",
       "6       Acessórios e periféricos (monitor, impressora,...   \n",
       "11                               Telefonia Móvel Pré-paga   \n",
       "15      Eletroportáteis ( batedeira, liquidificador, u...   \n",
       "16      Serviço de pagamento online/ via celular/ maqu...   \n",
       "...                                                   ...   \n",
       "423380                Lavadora de roupa, louça e secadora   \n",
       "423381  Banco de Dados e Cadastros de Consumidores (SP...   \n",
       "423385                                   Aparelho celular   \n",
       "423387                           Telefonia Móvel Pré-paga   \n",
       "423388  Serviço de pagamento online/ via celular/ maqu...   \n",
       "\n",
       "                Grupo Problema  \\\n",
       "3            Contrato / Oferta   \n",
       "6       Cobrança / Contestação   \n",
       "11      Cobrança / Contestação   \n",
       "15           Atendimento / SAC   \n",
       "16           Contrato / Oferta   \n",
       "...                        ...   \n",
       "423380      Entrega do Produto   \n",
       "423381              Informação   \n",
       "423385       Saúde e Segurança   \n",
       "423387  Cobrança / Contestação   \n",
       "423388  Cobrança / Contestação   \n",
       "\n",
       "                                                 Problema  \\\n",
       "3       Oferta não cumprida / serviço não fornecido/ v...   \n",
       "6       Dificuldade / atraso na devolução de valores p...   \n",
       "11      Cobrança por serviço/produto não contratado / ...   \n",
       "15      Má qualidade no atendimento (descortesia / des...   \n",
       "16      Dificuldade para rescindir o contrato / cancel...   \n",
       "...                                                   ...   \n",
       "423380         Não entrega / demora na entrega do produto   \n",
       "423381  Dados pessoais ou financeiros consultados, col...   \n",
       "423385  Risco, dano físico ou mal estar decorrente da ...   \n",
       "423387       Negativação indevida (SPC, Serasa, SCPC etc)   \n",
       "423388  Cobrança de tarifas, taxas, valores não previs...   \n",
       "\n",
       "       Como Comprou Contratou Procurou Empresa Respondida  \\\n",
       "3                    Internet                S          S   \n",
       "6                    Internet                S          S   \n",
       "11                   Internet                S          S   \n",
       "15                   Internet                S          S   \n",
       "16                   Internet                S          S   \n",
       "...                       ...              ...        ...   \n",
       "423380               Internet                S          S   \n",
       "423381               Internet                N          S   \n",
       "423385               Internet                S          S   \n",
       "423387               Internet                S          S   \n",
       "423388               Internet                S          S   \n",
       "\n",
       "                       Situação Avaliação Reclamação  Nota do Consumidor  \\\n",
       "3       Finalizada não avaliada         Não Avaliada                 NaN   \n",
       "6           Finalizada avaliada        Não Resolvida                 1.0   \n",
       "11      Finalizada não avaliada         Não Avaliada                 NaN   \n",
       "15      Finalizada não avaliada         Não Avaliada                 NaN   \n",
       "16      Finalizada não avaliada         Não Avaliada                 NaN   \n",
       "...                         ...                  ...                 ...   \n",
       "423380      Finalizada avaliada            Resolvida                 3.0   \n",
       "423381      Finalizada avaliada        Não Resolvida                 3.0   \n",
       "423385      Finalizada avaliada            Resolvida                 4.0   \n",
       "423387      Finalizada avaliada            Resolvida                 4.0   \n",
       "423388  Finalizada não avaliada         Não Avaliada                 NaN   \n",
       "\n",
       "        Total  \n",
       "3           1  \n",
       "6           1  \n",
       "11          1  \n",
       "15          1  \n",
       "16          1  \n",
       "...       ...  \n",
       "423380      1  \n",
       "423381      1  \n",
       "423385      1  \n",
       "423387      1  \n",
       "423388      1  \n",
       "\n",
       "[156799 rows x 20 columns]"
      ]
     },
     "execution_count": 95,
     "metadata": {},
     "output_type": "execute_result"
    }
   ],
   "source": [
    "df_i = df.loc[df['Como Comprou Contratou'] == 'Internet']\n",
    "df_i"
   ]
  },
  {
   "cell_type": "code",
   "execution_count": 96,
   "id": "6494937f",
   "metadata": {},
   "outputs": [
    {
     "data": {
      "text/plain": [
       "Faixa Etária        Como Comprou Contratou\n",
       "até 20 anos         Internet                   5016\n",
       "entre 21 a 30 anos  Internet                  54811\n",
       "entre 31 a 40 anos  Internet                  57808\n",
       "entre 41 a 50 anos  Internet                  22829\n",
       "entre 51 a 60 anos  Internet                  10239\n",
       "entre 61 a 70 anos  Internet                   4690\n",
       "mais de 70 anos     Internet                   1406\n",
       "Name: Como Comprou Contratou, dtype: int64"
      ]
     },
     "execution_count": 96,
     "metadata": {},
     "output_type": "execute_result"
    }
   ],
   "source": [
    "internet_idade = df_i.groupby('Faixa Etária')['Como Comprou Contratou'].value_counts()\n",
    "internet_idade"
   ]
  },
  {
   "cell_type": "code",
   "execution_count": 132,
   "id": "790b3cd8",
   "metadata": {},
   "outputs": [
    {
     "data": {
      "text/plain": [
       "<AxesSubplot:ylabel='Faixa Etária,Como Comprou Contratou'>"
      ]
     },
     "execution_count": 132,
     "metadata": {},
     "output_type": "execute_result"
    },
    {
     "data": {
      "image/png": "[encoded data removed]",
      "text/plain": [
       "<Figure size 432x288 with 1 Axes>"
      ]
     },
     "metadata": {
      "needs_background": "light"
     },
     "output_type": "display_data"
    }
   ],
   "source": [
    "internet_idade.plot.barh()"
   ]
  },
  {
   "cell_type": "code",
   "execution_count": 97,
   "id": "ca669ea9",
   "metadata": {},
   "outputs": [
    {
     "data": {
      "text/html": [
       "<div>\n",
       "<style scoped>\n",
       "    .dataframe tbody tr th:only-of-type {\n",
       "        vertical-align: middle;\n",
       "    }\n",
       "\n",
       "    .dataframe tbody tr th {\n",
       "        vertical-align: top;\n",
       "    }\n",
       "\n",
       "    .dataframe thead th {\n",
       "        text-align: right;\n",
       "    }\n",
       "</style>\n",
       "<table border=\"1\" class=\"dataframe\">\n",
       "  <thead>\n",
       "    <tr style=\"text-align: right;\">\n",
       "      <th></th>\n",
       "      <th>Região</th>\n",
       "      <th>UF</th>\n",
       "      <th>Cidade</th>\n",
       "      <th>Sexo</th>\n",
       "      <th>Faixa Etária</th>\n",
       "      <th>Data Finalização</th>\n",
       "      <th>Tempo Resposta</th>\n",
       "      <th>Nome Fantasia</th>\n",
       "      <th>Segmento de Mercado</th>\n",
       "      <th>Área</th>\n",
       "      <th>Assunto</th>\n",
       "      <th>Grupo Problema</th>\n",
       "      <th>Problema</th>\n",
       "      <th>Como Comprou Contratou</th>\n",
       "      <th>Procurou Empresa</th>\n",
       "      <th>Respondida</th>\n",
       "      <th>Situação</th>\n",
       "      <th>Avaliação Reclamação</th>\n",
       "      <th>Nota do Consumidor</th>\n",
       "      <th>Total</th>\n",
       "    </tr>\n",
       "  </thead>\n",
       "  <tbody>\n",
       "    <tr>\n",
       "      <th>14</th>\n",
       "      <td>SE</td>\n",
       "      <td>SP</td>\n",
       "      <td>Piracicaba</td>\n",
       "      <td>F</td>\n",
       "      <td>entre 21 a 30 anos</td>\n",
       "      <td>04/07/2019</td>\n",
       "      <td>10.0</td>\n",
       "      <td>Tim</td>\n",
       "      <td>Operadoras de Telecomunicações (Telefonia, Int...</td>\n",
       "      <td>Telecomunicações</td>\n",
       "      <td>Pacote de Serviços ( Combo )</td>\n",
       "      <td>Cobrança / Contestação</td>\n",
       "      <td>Cobrança submetendo a ofensa, constrangimento ...</td>\n",
       "      <td>Telefone</td>\n",
       "      <td>S</td>\n",
       "      <td>S</td>\n",
       "      <td>Finalizada não avaliada</td>\n",
       "      <td>Não Avaliada</td>\n",
       "      <td>NaN</td>\n",
       "      <td>1</td>\n",
       "    </tr>\n",
       "    <tr>\n",
       "      <th>17</th>\n",
       "      <td>SE</td>\n",
       "      <td>SP</td>\n",
       "      <td>Taquarituba</td>\n",
       "      <td>M</td>\n",
       "      <td>entre 41 a 50 anos</td>\n",
       "      <td>02/07/2019</td>\n",
       "      <td>10.0</td>\n",
       "      <td>Vivo - Telefônica (GVT)</td>\n",
       "      <td>Operadoras de Telecomunicações (Telefonia, Int...</td>\n",
       "      <td>Telecomunicações</td>\n",
       "      <td>Telefonia Móvel Pós-paga</td>\n",
       "      <td>Cobrança / Contestação</td>\n",
       "      <td>Cobrança por serviço não fornecido/ em desacor...</td>\n",
       "      <td>Telefone</td>\n",
       "      <td>S</td>\n",
       "      <td>S</td>\n",
       "      <td>Finalizada não avaliada</td>\n",
       "      <td>Não Avaliada</td>\n",
       "      <td>NaN</td>\n",
       "      <td>1</td>\n",
       "    </tr>\n",
       "    <tr>\n",
       "      <th>18</th>\n",
       "      <td>NE</td>\n",
       "      <td>BA</td>\n",
       "      <td>Aramari</td>\n",
       "      <td>F</td>\n",
       "      <td>entre 61 a 70 anos</td>\n",
       "      <td>08/07/2019</td>\n",
       "      <td>10.0</td>\n",
       "      <td>Credicard</td>\n",
       "      <td>Bancos, Financeiras e Administradoras de Cartão</td>\n",
       "      <td>Serviços Financeiros</td>\n",
       "      <td>Cartão de Crédito / Cartão de Débito / Cartão ...</td>\n",
       "      <td>Cobrança / Contestação</td>\n",
       "      <td>Renegociação / parcelamento de dívida</td>\n",
       "      <td>Telefone</td>\n",
       "      <td>S</td>\n",
       "      <td>S</td>\n",
       "      <td>Finalizada não avaliada</td>\n",
       "      <td>Não Avaliada</td>\n",
       "      <td>NaN</td>\n",
       "      <td>1</td>\n",
       "    </tr>\n",
       "    <tr>\n",
       "      <th>21</th>\n",
       "      <td>S</td>\n",
       "      <td>RS</td>\n",
       "      <td>Santa Maria</td>\n",
       "      <td>M</td>\n",
       "      <td>entre 51 a 60 anos</td>\n",
       "      <td>01/07/2019</td>\n",
       "      <td>10.0</td>\n",
       "      <td>Claro TV</td>\n",
       "      <td>Operadoras de Telecomunicações (Telefonia, Int...</td>\n",
       "      <td>Serviços Financeiros</td>\n",
       "      <td>Demais Seguros (exceto habitacional)</td>\n",
       "      <td>Cobrança / Contestação</td>\n",
       "      <td>Cobrança indevida / abusiva para alterar ou ca...</td>\n",
       "      <td>Telefone</td>\n",
       "      <td>S</td>\n",
       "      <td>S</td>\n",
       "      <td>Finalizada não avaliada</td>\n",
       "      <td>Não Avaliada</td>\n",
       "      <td>NaN</td>\n",
       "      <td>1</td>\n",
       "    </tr>\n",
       "    <tr>\n",
       "      <th>33</th>\n",
       "      <td>NE</td>\n",
       "      <td>PE</td>\n",
       "      <td>Recife</td>\n",
       "      <td>F</td>\n",
       "      <td>entre 21 a 30 anos</td>\n",
       "      <td>10/07/2019</td>\n",
       "      <td>10.0</td>\n",
       "      <td>Tim</td>\n",
       "      <td>Operadoras de Telecomunicações (Telefonia, Int...</td>\n",
       "      <td>Telecomunicações</td>\n",
       "      <td>Pacote de Serviços ( Combo )</td>\n",
       "      <td>Contrato / Oferta</td>\n",
       "      <td>Dificuldade para rescindir o contrato / cancel...</td>\n",
       "      <td>Telefone</td>\n",
       "      <td>S</td>\n",
       "      <td>S</td>\n",
       "      <td>Finalizada não avaliada</td>\n",
       "      <td>Não Avaliada</td>\n",
       "      <td>NaN</td>\n",
       "      <td>1</td>\n",
       "    </tr>\n",
       "    <tr>\n",
       "      <th>...</th>\n",
       "      <td>...</td>\n",
       "      <td>...</td>\n",
       "      <td>...</td>\n",
       "      <td>...</td>\n",
       "      <td>...</td>\n",
       "      <td>...</td>\n",
       "      <td>...</td>\n",
       "      <td>...</td>\n",
       "      <td>...</td>\n",
       "      <td>...</td>\n",
       "      <td>...</td>\n",
       "      <td>...</td>\n",
       "      <td>...</td>\n",
       "      <td>...</td>\n",
       "      <td>...</td>\n",
       "      <td>...</td>\n",
       "      <td>...</td>\n",
       "      <td>...</td>\n",
       "      <td>...</td>\n",
       "      <td>...</td>\n",
       "    </tr>\n",
       "    <tr>\n",
       "      <th>423369</th>\n",
       "      <td>S</td>\n",
       "      <td>PR</td>\n",
       "      <td>Curitiba</td>\n",
       "      <td>F</td>\n",
       "      <td>entre 21 a 30 anos</td>\n",
       "      <td>26/12/2019</td>\n",
       "      <td>8.0</td>\n",
       "      <td>Oi Celular</td>\n",
       "      <td>Operadoras de Telecomunicações (Telefonia, Int...</td>\n",
       "      <td>Produtos de Telefonia e Informática</td>\n",
       "      <td>Aparelho celular</td>\n",
       "      <td>Contrato / Oferta</td>\n",
       "      <td>Oferta não cumprida / serviço não fornecido/ v...</td>\n",
       "      <td>Telefone</td>\n",
       "      <td>S</td>\n",
       "      <td>S</td>\n",
       "      <td>Finalizada avaliada</td>\n",
       "      <td>Resolvida</td>\n",
       "      <td>5.0</td>\n",
       "      <td>1</td>\n",
       "    </tr>\n",
       "    <tr>\n",
       "      <th>423375</th>\n",
       "      <td>SE</td>\n",
       "      <td>SP</td>\n",
       "      <td>Ibitinga</td>\n",
       "      <td>M</td>\n",
       "      <td>entre 61 a 70 anos</td>\n",
       "      <td>23/12/2019</td>\n",
       "      <td>5.0</td>\n",
       "      <td>Vivo - Telefônica (GVT)</td>\n",
       "      <td>Operadoras de Telecomunicações (Telefonia, Int...</td>\n",
       "      <td>Telecomunicações</td>\n",
       "      <td>Internet Fixa</td>\n",
       "      <td>Cobrança / Contestação</td>\n",
       "      <td>Cobrança após cancelamento do serviço</td>\n",
       "      <td>Telefone</td>\n",
       "      <td>S</td>\n",
       "      <td>S</td>\n",
       "      <td>Finalizada avaliada</td>\n",
       "      <td>Resolvida</td>\n",
       "      <td>4.0</td>\n",
       "      <td>1</td>\n",
       "    </tr>\n",
       "    <tr>\n",
       "      <th>423383</th>\n",
       "      <td>S</td>\n",
       "      <td>RS</td>\n",
       "      <td>Itaqui</td>\n",
       "      <td>M</td>\n",
       "      <td>entre 51 a 60 anos</td>\n",
       "      <td>20/12/2019</td>\n",
       "      <td>3.0</td>\n",
       "      <td>Vivo - Telefônica (GVT)</td>\n",
       "      <td>Operadoras de Telecomunicações (Telefonia, Int...</td>\n",
       "      <td>Telecomunicações</td>\n",
       "      <td>Telefonia Móvel Pré-paga</td>\n",
       "      <td>Vício de Qualidade</td>\n",
       "      <td>Funcionamento inadequado do serviço (má qualid...</td>\n",
       "      <td>Telefone</td>\n",
       "      <td>N</td>\n",
       "      <td>S</td>\n",
       "      <td>Finalizada avaliada</td>\n",
       "      <td>Resolvida</td>\n",
       "      <td>5.0</td>\n",
       "      <td>1</td>\n",
       "    </tr>\n",
       "    <tr>\n",
       "      <th>423384</th>\n",
       "      <td>S</td>\n",
       "      <td>RS</td>\n",
       "      <td>Itaqui</td>\n",
       "      <td>M</td>\n",
       "      <td>entre 31 a 40 anos</td>\n",
       "      <td>20/12/2019</td>\n",
       "      <td>3.0</td>\n",
       "      <td>Vivo - Telefônica (GVT)</td>\n",
       "      <td>Operadoras de Telecomunicações (Telefonia, Int...</td>\n",
       "      <td>Telecomunicações</td>\n",
       "      <td>Telefonia Móvel Pré-paga</td>\n",
       "      <td>Vício de Qualidade</td>\n",
       "      <td>Funcionamento inadequado do serviço (má qualid...</td>\n",
       "      <td>Telefone</td>\n",
       "      <td>N</td>\n",
       "      <td>S</td>\n",
       "      <td>Finalizada avaliada</td>\n",
       "      <td>Resolvida</td>\n",
       "      <td>5.0</td>\n",
       "      <td>1</td>\n",
       "    </tr>\n",
       "    <tr>\n",
       "      <th>423386</th>\n",
       "      <td>SE</td>\n",
       "      <td>SP</td>\n",
       "      <td>São Paulo</td>\n",
       "      <td>M</td>\n",
       "      <td>entre 31 a 40 anos</td>\n",
       "      <td>20/12/2019</td>\n",
       "      <td>3.0</td>\n",
       "      <td>Tim</td>\n",
       "      <td>Operadoras de Telecomunicações (Telefonia, Int...</td>\n",
       "      <td>Telecomunicações</td>\n",
       "      <td>Internet Fixa</td>\n",
       "      <td>Cobrança / Contestação</td>\n",
       "      <td>Cobrança após cancelamento do serviço</td>\n",
       "      <td>Telefone</td>\n",
       "      <td>S</td>\n",
       "      <td>S</td>\n",
       "      <td>Finalizada avaliada</td>\n",
       "      <td>Não Resolvida</td>\n",
       "      <td>1.0</td>\n",
       "      <td>1</td>\n",
       "    </tr>\n",
       "  </tbody>\n",
       "</table>\n",
       "<p>84082 rows × 20 columns</p>\n",
       "</div>"
      ],
      "text/plain": [
       "       Região  UF       Cidade Sexo        Faixa Etária Data Finalização  \\\n",
       "14         SE  SP   Piracicaba    F  entre 21 a 30 anos       04/07/2019   \n",
       "17         SE  SP  Taquarituba    M  entre 41 a 50 anos       02/07/2019   \n",
       "18         NE  BA      Aramari    F  entre 61 a 70 anos       08/07/2019   \n",
       "21         S   RS  Santa Maria    M  entre 51 a 60 anos       01/07/2019   \n",
       "33         NE  PE       Recife    F  entre 21 a 30 anos       10/07/2019   \n",
       "...       ...  ..          ...  ...                 ...              ...   \n",
       "423369     S   PR     Curitiba    F  entre 21 a 30 anos       26/12/2019   \n",
       "423375     SE  SP     Ibitinga    M  entre 61 a 70 anos       23/12/2019   \n",
       "423383     S   RS       Itaqui    M  entre 51 a 60 anos       20/12/2019   \n",
       "423384     S   RS       Itaqui    M  entre 31 a 40 anos       20/12/2019   \n",
       "423386     SE  SP    São Paulo    M  entre 31 a 40 anos       20/12/2019   \n",
       "\n",
       "        Tempo Resposta            Nome Fantasia  \\\n",
       "14                10.0                      Tim   \n",
       "17                10.0  Vivo - Telefônica (GVT)   \n",
       "18                10.0                Credicard   \n",
       "21                10.0                Claro TV    \n",
       "33                10.0                      Tim   \n",
       "...                ...                      ...   \n",
       "423369             8.0               Oi Celular   \n",
       "423375             5.0  Vivo - Telefônica (GVT)   \n",
       "423383             3.0  Vivo - Telefônica (GVT)   \n",
       "423384             3.0  Vivo - Telefônica (GVT)   \n",
       "423386             3.0                      Tim   \n",
       "\n",
       "                                      Segmento de Mercado  \\\n",
       "14      Operadoras de Telecomunicações (Telefonia, Int...   \n",
       "17      Operadoras de Telecomunicações (Telefonia, Int...   \n",
       "18        Bancos, Financeiras e Administradoras de Cartão   \n",
       "21      Operadoras de Telecomunicações (Telefonia, Int...   \n",
       "33      Operadoras de Telecomunicações (Telefonia, Int...   \n",
       "...                                                   ...   \n",
       "423369  Operadoras de Telecomunicações (Telefonia, Int...   \n",
       "423375  Operadoras de Telecomunicações (Telefonia, Int...   \n",
       "423383  Operadoras de Telecomunicações (Telefonia, Int...   \n",
       "423384  Operadoras de Telecomunicações (Telefonia, Int...   \n",
       "423386  Operadoras de Telecomunicações (Telefonia, Int...   \n",
       "\n",
       "                                       Área  \\\n",
       "14                         Telecomunicações   \n",
       "17                         Telecomunicações   \n",
       "18                     Serviços Financeiros   \n",
       "21                     Serviços Financeiros   \n",
       "33                         Telecomunicações   \n",
       "...                                     ...   \n",
       "423369  Produtos de Telefonia e Informática   \n",
       "423375                     Telecomunicações   \n",
       "423383                     Telecomunicações   \n",
       "423384                     Telecomunicações   \n",
       "423386                     Telecomunicações   \n",
       "\n",
       "                                                  Assunto  \\\n",
       "14                           Pacote de Serviços ( Combo )   \n",
       "17                               Telefonia Móvel Pós-paga   \n",
       "18      Cartão de Crédito / Cartão de Débito / Cartão ...   \n",
       "21                   Demais Seguros (exceto habitacional)   \n",
       "33                           Pacote de Serviços ( Combo )   \n",
       "...                                                   ...   \n",
       "423369                                   Aparelho celular   \n",
       "423375                                      Internet Fixa   \n",
       "423383                           Telefonia Móvel Pré-paga   \n",
       "423384                           Telefonia Móvel Pré-paga   \n",
       "423386                                      Internet Fixa   \n",
       "\n",
       "                Grupo Problema  \\\n",
       "14      Cobrança / Contestação   \n",
       "17      Cobrança / Contestação   \n",
       "18      Cobrança / Contestação   \n",
       "21      Cobrança / Contestação   \n",
       "33           Contrato / Oferta   \n",
       "...                        ...   \n",
       "423369       Contrato / Oferta   \n",
       "423375  Cobrança / Contestação   \n",
       "423383      Vício de Qualidade   \n",
       "423384      Vício de Qualidade   \n",
       "423386  Cobrança / Contestação   \n",
       "\n",
       "                                                 Problema  \\\n",
       "14      Cobrança submetendo a ofensa, constrangimento ...   \n",
       "17      Cobrança por serviço não fornecido/ em desacor...   \n",
       "18                  Renegociação / parcelamento de dívida   \n",
       "21      Cobrança indevida / abusiva para alterar ou ca...   \n",
       "33      Dificuldade para rescindir o contrato / cancel...   \n",
       "...                                                   ...   \n",
       "423369  Oferta não cumprida / serviço não fornecido/ v...   \n",
       "423375              Cobrança após cancelamento do serviço   \n",
       "423383  Funcionamento inadequado do serviço (má qualid...   \n",
       "423384  Funcionamento inadequado do serviço (má qualid...   \n",
       "423386              Cobrança após cancelamento do serviço   \n",
       "\n",
       "       Como Comprou Contratou Procurou Empresa Respondida  \\\n",
       "14                   Telefone                S          S   \n",
       "17                   Telefone                S          S   \n",
       "18                   Telefone                S          S   \n",
       "21                   Telefone                S          S   \n",
       "33                   Telefone                S          S   \n",
       "...                       ...              ...        ...   \n",
       "423369               Telefone                S          S   \n",
       "423375               Telefone                S          S   \n",
       "423383               Telefone                N          S   \n",
       "423384               Telefone                N          S   \n",
       "423386               Telefone                S          S   \n",
       "\n",
       "                       Situação Avaliação Reclamação  Nota do Consumidor  \\\n",
       "14      Finalizada não avaliada         Não Avaliada                 NaN   \n",
       "17      Finalizada não avaliada         Não Avaliada                 NaN   \n",
       "18      Finalizada não avaliada         Não Avaliada                 NaN   \n",
       "21      Finalizada não avaliada         Não Avaliada                 NaN   \n",
       "33      Finalizada não avaliada         Não Avaliada                 NaN   \n",
       "...                         ...                  ...                 ...   \n",
       "423369      Finalizada avaliada            Resolvida                 5.0   \n",
       "423375      Finalizada avaliada            Resolvida                 4.0   \n",
       "423383      Finalizada avaliada            Resolvida                 5.0   \n",
       "423384      Finalizada avaliada            Resolvida                 5.0   \n",
       "423386      Finalizada avaliada        Não Resolvida                 1.0   \n",
       "\n",
       "        Total  \n",
       "14          1  \n",
       "17          1  \n",
       "18          1  \n",
       "21          1  \n",
       "33          1  \n",
       "...       ...  \n",
       "423369      1  \n",
       "423375      1  \n",
       "423383      1  \n",
       "423384      1  \n",
       "423386      1  \n",
       "\n",
       "[84082 rows x 20 columns]"
      ]
     },
     "execution_count": 97,
     "metadata": {},
     "output_type": "execute_result"
    }
   ],
   "source": [
    "df_t = df.loc[df['Como Comprou Contratou'] == 'Telefone']\n",
    "df_t"
   ]
  },
  {
   "cell_type": "code",
   "execution_count": 101,
   "id": "99234338",
   "metadata": {},
   "outputs": [
    {
     "data": {
      "text/plain": [
       "Faixa Etária        Como Comprou Contratou\n",
       "até 20 anos         Telefone                   1396\n",
       "entre 21 a 30 anos  Telefone                  21063\n",
       "entre 31 a 40 anos  Telefone                  26798\n",
       "entre 41 a 50 anos  Telefone                  14193\n",
       "entre 51 a 60 anos  Telefone                  10233\n",
       "entre 61 a 70 anos  Telefone                   7191\n",
       "mais de 70 anos     Telefone                   3208\n",
       "Name: Como Comprou Contratou, dtype: int64"
      ]
     },
     "execution_count": 101,
     "metadata": {},
     "output_type": "execute_result"
    }
   ],
   "source": [
    "servico_telefone = df_t.groupby('Faixa Etária')['Como Comprou Contratou'].value_counts()\n",
    "servico_telefone"
   ]
  },
  {
   "cell_type": "code",
   "execution_count": 133,
   "id": "f38c83f0",
   "metadata": {},
   "outputs": [
    {
     "data": {
      "text/plain": [
       "<AxesSubplot:ylabel='Faixa Etária,Como Comprou Contratou'>"
      ]
     },
     "execution_count": 133,
     "metadata": {},
     "output_type": "execute_result"
    },
    {
     "data": {
      "image/png": "[encoded data removed]",
      "text/plain": [
       "<Figure size 432x288 with 1 Axes>"
      ]
     },
     "metadata": {
      "needs_background": "light"
     },
     "output_type": "display_data"
    }
   ],
   "source": [
    "servico_telefone.plot.barh()"
   ]
  },
  {
   "cell_type": "markdown",
   "id": "46663db8",
   "metadata": {},
   "source": [
    "# Os consumidores que mais contratam procuram a empresa antes da reclamação?"
   ]
  },
  {
   "cell_type": "code",
   "execution_count": 102,
   "id": "33cd58e5",
   "metadata": {},
   "outputs": [
    {
     "data": {
      "text/html": [
       "<div>\n",
       "<style scoped>\n",
       "    .dataframe tbody tr th:only-of-type {\n",
       "        vertical-align: middle;\n",
       "    }\n",
       "\n",
       "    .dataframe tbody tr th {\n",
       "        vertical-align: top;\n",
       "    }\n",
       "\n",
       "    .dataframe thead th {\n",
       "        text-align: right;\n",
       "    }\n",
       "</style>\n",
       "<table border=\"1\" class=\"dataframe\">\n",
       "  <thead>\n",
       "    <tr style=\"text-align: right;\">\n",
       "      <th></th>\n",
       "      <th>Região</th>\n",
       "      <th>UF</th>\n",
       "      <th>Cidade</th>\n",
       "      <th>Sexo</th>\n",
       "      <th>Faixa Etária</th>\n",
       "      <th>Data Finalização</th>\n",
       "      <th>Tempo Resposta</th>\n",
       "      <th>Nome Fantasia</th>\n",
       "      <th>Segmento de Mercado</th>\n",
       "      <th>Área</th>\n",
       "      <th>Assunto</th>\n",
       "      <th>Grupo Problema</th>\n",
       "      <th>Problema</th>\n",
       "      <th>Como Comprou Contratou</th>\n",
       "      <th>Procurou Empresa</th>\n",
       "      <th>Respondida</th>\n",
       "      <th>Situação</th>\n",
       "      <th>Avaliação Reclamação</th>\n",
       "      <th>Nota do Consumidor</th>\n",
       "      <th>Total</th>\n",
       "    </tr>\n",
       "  </thead>\n",
       "  <tbody>\n",
       "    <tr>\n",
       "      <th>20</th>\n",
       "      <td>NE</td>\n",
       "      <td>PB</td>\n",
       "      <td>Campina Grande</td>\n",
       "      <td>F</td>\n",
       "      <td>entre 31 a 40 anos</td>\n",
       "      <td>05/07/2019</td>\n",
       "      <td>10.0</td>\n",
       "      <td>Tim</td>\n",
       "      <td>Operadoras de Telecomunicações (Telefonia, Int...</td>\n",
       "      <td>Telecomunicações</td>\n",
       "      <td>Telefonia Móvel Pré-paga</td>\n",
       "      <td>Vício de Qualidade</td>\n",
       "      <td>Dificuldade para alterar/ ativar serviços</td>\n",
       "      <td>Internet</td>\n",
       "      <td>S</td>\n",
       "      <td>S</td>\n",
       "      <td>Finalizada não avaliada</td>\n",
       "      <td>Não Avaliada</td>\n",
       "      <td>NaN</td>\n",
       "      <td>1</td>\n",
       "    </tr>\n",
       "    <tr>\n",
       "      <th>26</th>\n",
       "      <td>CO</td>\n",
       "      <td>MS</td>\n",
       "      <td>Dourados</td>\n",
       "      <td>M</td>\n",
       "      <td>entre 31 a 40 anos</td>\n",
       "      <td>09/07/2019</td>\n",
       "      <td>10.0</td>\n",
       "      <td>Netshoes</td>\n",
       "      <td>Comércio Eletrônico</td>\n",
       "      <td>Demais Produtos</td>\n",
       "      <td>Esporte/Lazer/Festa (equipamento de ginástica,...</td>\n",
       "      <td>Contrato / Oferta</td>\n",
       "      <td>Oferta não cumprida / serviço não fornecido/ v...</td>\n",
       "      <td>Internet</td>\n",
       "      <td>S</td>\n",
       "      <td>S</td>\n",
       "      <td>Finalizada não avaliada</td>\n",
       "      <td>Não Avaliada</td>\n",
       "      <td>NaN</td>\n",
       "      <td>1</td>\n",
       "    </tr>\n",
       "    <tr>\n",
       "      <th>31</th>\n",
       "      <td>SE</td>\n",
       "      <td>RJ</td>\n",
       "      <td>Rio de Janeiro</td>\n",
       "      <td>M</td>\n",
       "      <td>entre 31 a 40 anos</td>\n",
       "      <td>04/07/2019</td>\n",
       "      <td>9.0</td>\n",
       "      <td>Mercado Livre</td>\n",
       "      <td>Empresas de Intermediação de Serviços / Negócios</td>\n",
       "      <td>Produtos de Telefonia e Informática</td>\n",
       "      <td>Aparelho celular</td>\n",
       "      <td>Contrato / Oferta</td>\n",
       "      <td>Oferta não cumprida / serviço não fornecido/ v...</td>\n",
       "      <td>Internet</td>\n",
       "      <td>N</td>\n",
       "      <td>S</td>\n",
       "      <td>Finalizada avaliada</td>\n",
       "      <td>Não Resolvida</td>\n",
       "      <td>1.0</td>\n",
       "      <td>1</td>\n",
       "    </tr>\n",
       "    <tr>\n",
       "      <th>40</th>\n",
       "      <td>S</td>\n",
       "      <td>RS</td>\n",
       "      <td>Humaitá</td>\n",
       "      <td>M</td>\n",
       "      <td>entre 31 a 40 anos</td>\n",
       "      <td>02/07/2019</td>\n",
       "      <td>10.0</td>\n",
       "      <td>Mercado Livre</td>\n",
       "      <td>Empresas de Intermediação de Serviços / Negócios</td>\n",
       "      <td>Demais Produtos</td>\n",
       "      <td>Produtos Veterinários (ração, acessórios etc)</td>\n",
       "      <td>Cobrança / Contestação</td>\n",
       "      <td>Negativação indevida (SPC, Serasa, SCPC etc)</td>\n",
       "      <td>Internet</td>\n",
       "      <td>S</td>\n",
       "      <td>S</td>\n",
       "      <td>Finalizada não avaliada</td>\n",
       "      <td>Não Avaliada</td>\n",
       "      <td>NaN</td>\n",
       "      <td>1</td>\n",
       "    </tr>\n",
       "    <tr>\n",
       "      <th>47</th>\n",
       "      <td>CO</td>\n",
       "      <td>GO</td>\n",
       "      <td>Goiânia</td>\n",
       "      <td>M</td>\n",
       "      <td>entre 31 a 40 anos</td>\n",
       "      <td>10/07/2019</td>\n",
       "      <td>10.0</td>\n",
       "      <td>Samsung</td>\n",
       "      <td>Fabricantes - Eletroeletrônicos,  Produtos de ...</td>\n",
       "      <td>Produtos de Telefonia e Informática</td>\n",
       "      <td>Aparelho celular</td>\n",
       "      <td>Vício de Qualidade</td>\n",
       "      <td>Produto danificado / não funciona - Falta de a...</td>\n",
       "      <td>Internet</td>\n",
       "      <td>S</td>\n",
       "      <td>S</td>\n",
       "      <td>Finalizada não avaliada</td>\n",
       "      <td>Não Avaliada</td>\n",
       "      <td>NaN</td>\n",
       "      <td>1</td>\n",
       "    </tr>\n",
       "    <tr>\n",
       "      <th>...</th>\n",
       "      <td>...</td>\n",
       "      <td>...</td>\n",
       "      <td>...</td>\n",
       "      <td>...</td>\n",
       "      <td>...</td>\n",
       "      <td>...</td>\n",
       "      <td>...</td>\n",
       "      <td>...</td>\n",
       "      <td>...</td>\n",
       "      <td>...</td>\n",
       "      <td>...</td>\n",
       "      <td>...</td>\n",
       "      <td>...</td>\n",
       "      <td>...</td>\n",
       "      <td>...</td>\n",
       "      <td>...</td>\n",
       "      <td>...</td>\n",
       "      <td>...</td>\n",
       "      <td>...</td>\n",
       "      <td>...</td>\n",
       "    </tr>\n",
       "    <tr>\n",
       "      <th>423351</th>\n",
       "      <td>S</td>\n",
       "      <td>PR</td>\n",
       "      <td>Cambé</td>\n",
       "      <td>F</td>\n",
       "      <td>entre 31 a 40 anos</td>\n",
       "      <td>20/12/2019</td>\n",
       "      <td>10.0</td>\n",
       "      <td>Americanas.com</td>\n",
       "      <td>Comércio Eletrônico</td>\n",
       "      <td>Produtos Eletrodomésticos e Eletrônicos</td>\n",
       "      <td>Televisão</td>\n",
       "      <td>Atendimento / SAC</td>\n",
       "      <td>Dificuldade de contato / demora no atendimento</td>\n",
       "      <td>Internet</td>\n",
       "      <td>S</td>\n",
       "      <td>S</td>\n",
       "      <td>Finalizada avaliada</td>\n",
       "      <td>Não Resolvida</td>\n",
       "      <td>1.0</td>\n",
       "      <td>1</td>\n",
       "    </tr>\n",
       "    <tr>\n",
       "      <th>423355</th>\n",
       "      <td>SE</td>\n",
       "      <td>SP</td>\n",
       "      <td>São Paulo</td>\n",
       "      <td>M</td>\n",
       "      <td>entre 31 a 40 anos</td>\n",
       "      <td>28/12/2019</td>\n",
       "      <td>7.0</td>\n",
       "      <td>Americanas.com</td>\n",
       "      <td>Comércio Eletrônico</td>\n",
       "      <td>Produtos Eletrodomésticos e Eletrônicos</td>\n",
       "      <td>Lavadora de roupa, louça e secadora</td>\n",
       "      <td>Entrega do Produto</td>\n",
       "      <td>Não entrega / demora na entrega do produto</td>\n",
       "      <td>Internet</td>\n",
       "      <td>S</td>\n",
       "      <td>S</td>\n",
       "      <td>Finalizada avaliada</td>\n",
       "      <td>Resolvida</td>\n",
       "      <td>2.0</td>\n",
       "      <td>1</td>\n",
       "    </tr>\n",
       "    <tr>\n",
       "      <th>423365</th>\n",
       "      <td>S</td>\n",
       "      <td>PR</td>\n",
       "      <td>Peabiru</td>\n",
       "      <td>F</td>\n",
       "      <td>entre 31 a 40 anos</td>\n",
       "      <td>30/12/2019</td>\n",
       "      <td>8.0</td>\n",
       "      <td>Casasbahia.com</td>\n",
       "      <td>Comércio Eletrônico</td>\n",
       "      <td>Demais Produtos</td>\n",
       "      <td>Móveis e Colchões</td>\n",
       "      <td>Entrega do Produto</td>\n",
       "      <td>Não entrega / demora na entrega do produto</td>\n",
       "      <td>Internet</td>\n",
       "      <td>S</td>\n",
       "      <td>S</td>\n",
       "      <td>Finalizada avaliada</td>\n",
       "      <td>Resolvida</td>\n",
       "      <td>1.0</td>\n",
       "      <td>1</td>\n",
       "    </tr>\n",
       "    <tr>\n",
       "      <th>423380</th>\n",
       "      <td>SE</td>\n",
       "      <td>MG</td>\n",
       "      <td>Itabira</td>\n",
       "      <td>F</td>\n",
       "      <td>entre 31 a 40 anos</td>\n",
       "      <td>30/12/2019</td>\n",
       "      <td>10.0</td>\n",
       "      <td>Casasbahia.com</td>\n",
       "      <td>Comércio Eletrônico</td>\n",
       "      <td>Produtos Eletrodomésticos e Eletrônicos</td>\n",
       "      <td>Lavadora de roupa, louça e secadora</td>\n",
       "      <td>Entrega do Produto</td>\n",
       "      <td>Não entrega / demora na entrega do produto</td>\n",
       "      <td>Internet</td>\n",
       "      <td>S</td>\n",
       "      <td>S</td>\n",
       "      <td>Finalizada avaliada</td>\n",
       "      <td>Resolvida</td>\n",
       "      <td>3.0</td>\n",
       "      <td>1</td>\n",
       "    </tr>\n",
       "    <tr>\n",
       "      <th>423387</th>\n",
       "      <td>SE</td>\n",
       "      <td>SP</td>\n",
       "      <td>São Paulo</td>\n",
       "      <td>F</td>\n",
       "      <td>entre 31 a 40 anos</td>\n",
       "      <td>27/12/2019</td>\n",
       "      <td>3.0</td>\n",
       "      <td>Tim</td>\n",
       "      <td>Operadoras de Telecomunicações (Telefonia, Int...</td>\n",
       "      <td>Telecomunicações</td>\n",
       "      <td>Telefonia Móvel Pré-paga</td>\n",
       "      <td>Cobrança / Contestação</td>\n",
       "      <td>Negativação indevida (SPC, Serasa, SCPC etc)</td>\n",
       "      <td>Internet</td>\n",
       "      <td>S</td>\n",
       "      <td>S</td>\n",
       "      <td>Finalizada avaliada</td>\n",
       "      <td>Resolvida</td>\n",
       "      <td>4.0</td>\n",
       "      <td>1</td>\n",
       "    </tr>\n",
       "  </tbody>\n",
       "</table>\n",
       "<p>57808 rows × 20 columns</p>\n",
       "</div>"
      ],
      "text/plain": [
       "       Região  UF          Cidade Sexo        Faixa Etária Data Finalização  \\\n",
       "20         NE  PB  Campina Grande    F  entre 31 a 40 anos       05/07/2019   \n",
       "26         CO  MS        Dourados    M  entre 31 a 40 anos       09/07/2019   \n",
       "31         SE  RJ  Rio de Janeiro    M  entre 31 a 40 anos       04/07/2019   \n",
       "40         S   RS         Humaitá    M  entre 31 a 40 anos       02/07/2019   \n",
       "47         CO  GO         Goiânia    M  entre 31 a 40 anos       10/07/2019   \n",
       "...       ...  ..             ...  ...                 ...              ...   \n",
       "423351     S   PR           Cambé    F  entre 31 a 40 anos       20/12/2019   \n",
       "423355     SE  SP       São Paulo    M  entre 31 a 40 anos       28/12/2019   \n",
       "423365     S   PR         Peabiru    F  entre 31 a 40 anos       30/12/2019   \n",
       "423380     SE  MG         Itabira    F  entre 31 a 40 anos       30/12/2019   \n",
       "423387     SE  SP       São Paulo    F  entre 31 a 40 anos       27/12/2019   \n",
       "\n",
       "        Tempo Resposta   Nome Fantasia  \\\n",
       "20                10.0             Tim   \n",
       "26                10.0        Netshoes   \n",
       "31                 9.0   Mercado Livre   \n",
       "40                10.0   Mercado Livre   \n",
       "47                10.0         Samsung   \n",
       "...                ...             ...   \n",
       "423351            10.0  Americanas.com   \n",
       "423355             7.0  Americanas.com   \n",
       "423365             8.0  Casasbahia.com   \n",
       "423380            10.0  Casasbahia.com   \n",
       "423387             3.0             Tim   \n",
       "\n",
       "                                      Segmento de Mercado  \\\n",
       "20      Operadoras de Telecomunicações (Telefonia, Int...   \n",
       "26                                    Comércio Eletrônico   \n",
       "31       Empresas de Intermediação de Serviços / Negócios   \n",
       "40       Empresas de Intermediação de Serviços / Negócios   \n",
       "47      Fabricantes - Eletroeletrônicos,  Produtos de ...   \n",
       "...                                                   ...   \n",
       "423351                                Comércio Eletrônico   \n",
       "423355                                Comércio Eletrônico   \n",
       "423365                                Comércio Eletrônico   \n",
       "423380                                Comércio Eletrônico   \n",
       "423387  Operadoras de Telecomunicações (Telefonia, Int...   \n",
       "\n",
       "                                           Área  \\\n",
       "20                             Telecomunicações   \n",
       "26                              Demais Produtos   \n",
       "31          Produtos de Telefonia e Informática   \n",
       "40                              Demais Produtos   \n",
       "47          Produtos de Telefonia e Informática   \n",
       "...                                         ...   \n",
       "423351  Produtos Eletrodomésticos e Eletrônicos   \n",
       "423355  Produtos Eletrodomésticos e Eletrônicos   \n",
       "423365                          Demais Produtos   \n",
       "423380  Produtos Eletrodomésticos e Eletrônicos   \n",
       "423387                         Telecomunicações   \n",
       "\n",
       "                                                  Assunto  \\\n",
       "20                               Telefonia Móvel Pré-paga   \n",
       "26      Esporte/Lazer/Festa (equipamento de ginástica,...   \n",
       "31                                       Aparelho celular   \n",
       "40          Produtos Veterinários (ração, acessórios etc)   \n",
       "47                                       Aparelho celular   \n",
       "...                                                   ...   \n",
       "423351                                          Televisão   \n",
       "423355                Lavadora de roupa, louça e secadora   \n",
       "423365                                  Móveis e Colchões   \n",
       "423380                Lavadora de roupa, louça e secadora   \n",
       "423387                           Telefonia Móvel Pré-paga   \n",
       "\n",
       "                Grupo Problema  \\\n",
       "20          Vício de Qualidade   \n",
       "26           Contrato / Oferta   \n",
       "31           Contrato / Oferta   \n",
       "40      Cobrança / Contestação   \n",
       "47          Vício de Qualidade   \n",
       "...                        ...   \n",
       "423351       Atendimento / SAC   \n",
       "423355      Entrega do Produto   \n",
       "423365      Entrega do Produto   \n",
       "423380      Entrega do Produto   \n",
       "423387  Cobrança / Contestação   \n",
       "\n",
       "                                                 Problema  \\\n",
       "20              Dificuldade para alterar/ ativar serviços   \n",
       "26      Oferta não cumprida / serviço não fornecido/ v...   \n",
       "31      Oferta não cumprida / serviço não fornecido/ v...   \n",
       "40           Negativação indevida (SPC, Serasa, SCPC etc)   \n",
       "47      Produto danificado / não funciona - Falta de a...   \n",
       "...                                                   ...   \n",
       "423351     Dificuldade de contato / demora no atendimento   \n",
       "423355         Não entrega / demora na entrega do produto   \n",
       "423365         Não entrega / demora na entrega do produto   \n",
       "423380         Não entrega / demora na entrega do produto   \n",
       "423387       Negativação indevida (SPC, Serasa, SCPC etc)   \n",
       "\n",
       "       Como Comprou Contratou Procurou Empresa Respondida  \\\n",
       "20                   Internet                S          S   \n",
       "26                   Internet                S          S   \n",
       "31                   Internet                N          S   \n",
       "40                   Internet                S          S   \n",
       "47                   Internet                S          S   \n",
       "...                       ...              ...        ...   \n",
       "423351               Internet                S          S   \n",
       "423355               Internet                S          S   \n",
       "423365               Internet                S          S   \n",
       "423380               Internet                S          S   \n",
       "423387               Internet                S          S   \n",
       "\n",
       "                       Situação Avaliação Reclamação  Nota do Consumidor  \\\n",
       "20      Finalizada não avaliada         Não Avaliada                 NaN   \n",
       "26      Finalizada não avaliada         Não Avaliada                 NaN   \n",
       "31          Finalizada avaliada        Não Resolvida                 1.0   \n",
       "40      Finalizada não avaliada         Não Avaliada                 NaN   \n",
       "47      Finalizada não avaliada         Não Avaliada                 NaN   \n",
       "...                         ...                  ...                 ...   \n",
       "423351      Finalizada avaliada        Não Resolvida                 1.0   \n",
       "423355      Finalizada avaliada            Resolvida                 2.0   \n",
       "423365      Finalizada avaliada            Resolvida                 1.0   \n",
       "423380      Finalizada avaliada            Resolvida                 3.0   \n",
       "423387      Finalizada avaliada            Resolvida                 4.0   \n",
       "\n",
       "        Total  \n",
       "20          1  \n",
       "26          1  \n",
       "31          1  \n",
       "40          1  \n",
       "47          1  \n",
       "...       ...  \n",
       "423351      1  \n",
       "423355      1  \n",
       "423365      1  \n",
       "423380      1  \n",
       "423387      1  \n",
       "\n",
       "[57808 rows x 20 columns]"
      ]
     },
     "execution_count": 102,
     "metadata": {},
     "output_type": "execute_result"
    }
   ],
   "source": [
    "df_i = df_i.loc[df_i['Faixa Etária'] == 'entre 31 a 40 anos']\n",
    "df_i"
   ]
  },
  {
   "cell_type": "code",
   "execution_count": 104,
   "id": "d6b9c2aa",
   "metadata": {},
   "outputs": [
    {
     "data": {
      "text/plain": [
       "S    43810\n",
       "N    13998\n",
       "Name: Procurou Empresa, dtype: int64"
      ]
     },
     "execution_count": 104,
     "metadata": {},
     "output_type": "execute_result"
    }
   ],
   "source": [
    "procurou_empresa = df_i['Procurou Empresa'].value_counts()\n",
    "procurou_empresa"
   ]
  },
  {
   "cell_type": "code",
   "execution_count": 134,
   "id": "689e346c",
   "metadata": {},
   "outputs": [],
   "source": [
    "x = df_i['Procurou Empresa'].unique()"
   ]
  },
  {
   "cell_type": "code",
   "execution_count": 138,
   "id": "08278306",
   "metadata": {},
   "outputs": [
    {
     "name": "stderr",
     "output_type": "stream",
     "text": [
      "C:\\Users\\keter\\anaconda3\\lib\\site-packages\\seaborn\\_decorators.py:36: FutureWarning: Pass the following variables as keyword args: x, y. From version 0.12, the only valid positional argument will be `data`, and passing other arguments without an explicit keyword will result in an error or misinterpretation.\n",
      "  warnings.warn(\n"
     ]
    },
    {
     "data": {
      "text/plain": [
       "<AxesSubplot:ylabel='Procurou Empresa'>"
      ]
     },
     "execution_count": 138,
     "metadata": {},
     "output_type": "execute_result"
    },
    {
     "data": {
      "image/png": "[encoded data removed]",
      "text/plain": [
       "<Figure size 432x288 with 1 Axes>"
      ]
     },
     "metadata": {
      "needs_background": "light"
     },
     "output_type": "display_data"
    }
   ],
   "source": [
    "sns.barplot(x, procurou_empresa, hue=procurou_empresa)"
   ]
  },
  {
   "cell_type": "markdown",
   "id": "f1582095",
   "metadata": {},
   "source": [
    "# Os consumidores que procuraram a empresa foram respondidos? A maioria tiveram avaliação como resolvida?"
   ]
  },
  {
   "cell_type": "code",
   "execution_count": 107,
   "id": "949d2b50",
   "metadata": {},
   "outputs": [
    {
     "data": {
      "text/plain": [
       "S    56867\n",
       "N      941\n",
       "Name: Respondida, dtype: int64"
      ]
     },
     "execution_count": 107,
     "metadata": {},
     "output_type": "execute_result"
    }
   ],
   "source": [
    "respondidos = df_i['Respondida'].value_counts()\n",
    "respondidos"
   ]
  },
  {
   "cell_type": "code",
   "execution_count": 141,
   "id": "2c49eab2",
   "metadata": {},
   "outputs": [],
   "source": [
    "x = df_i['Respondida'].unique()"
   ]
  },
  {
   "cell_type": "code",
   "execution_count": 142,
   "id": "e314e0cd",
   "metadata": {},
   "outputs": [
    {
     "data": {
      "text/plain": [
       "<AxesSubplot:ylabel='Respondida'>"
      ]
     },
     "execution_count": 142,
     "metadata": {},
     "output_type": "execute_result"
    },
    {
     "data": {
      "image/png": "[encoded data removed]",
      "text/plain": [
       "<Figure size 432x288 with 1 Axes>"
      ]
     },
     "metadata": {
      "needs_background": "light"
     },
     "output_type": "display_data"
    }
   ],
   "source": [
    "sns.barplot(x, respondidos, hue=respondidos)"
   ]
  },
  {
   "cell_type": "code",
   "execution_count": 110,
   "id": "bc111d64",
   "metadata": {},
   "outputs": [
    {
     "data": {
      "text/plain": [
       "Não Avaliada     22458\n",
       "Resolvida        20948\n",
       "Não Resolvida    14402\n",
       "Name: Avaliação Reclamação, dtype: int64"
      ]
     },
     "execution_count": 110,
     "metadata": {},
     "output_type": "execute_result"
    }
   ],
   "source": [
    "avaliacao_rec = df_i['Avaliação Reclamação'].value_counts()\n",
    "avaliacao_rec"
   ]
  },
  {
   "cell_type": "code",
   "execution_count": 143,
   "id": "a453e376",
   "metadata": {},
   "outputs": [
    {
     "data": {
      "text/plain": [
       "<AxesSubplot:>"
      ]
     },
     "execution_count": 143,
     "metadata": {},
     "output_type": "execute_result"
    },
    {
     "data": {
      "image/png": "[encoded data removed]",
      "text/plain": [
       "<Figure size 432x288 with 1 Axes>"
      ]
     },
     "metadata": {
      "needs_background": "light"
     },
     "output_type": "display_data"
    }
   ],
   "source": [
    "avaliacao_rec.plot.bar()"
   ]
  },
  {
   "cell_type": "markdown",
   "id": "4fe2b84d",
   "metadata": {},
   "source": [
    "# Reclamações registradas e não respondidas por segmento"
   ]
  },
  {
   "cell_type": "code",
   "execution_count": 213,
   "id": "f7d3355d",
   "metadata": {},
   "outputs": [],
   "source": [
    "x = df.groupby('Segmento de Mercado')['Segmento de Mercado'].count()\n",
    "x = (x > 30)"
   ]
  },
  {
   "cell_type": "code",
   "execution_count": 217,
   "id": "3429f619",
   "metadata": {},
   "outputs": [
    {
     "data": {
      "text/plain": [
       "Segmento de Mercado\n",
       "Administradoras de Consórcios                                                192\n",
       "Agua e Esgoto / Gás                                                          563\n",
       "Agências de Viagens                                                         1450\n",
       "Artigos Esportivos                                                            38\n",
       "Bancos de Dados e Cadastros de Consumidores                                 7558\n",
       "Bancos, Financeiras e Administradoras de Cartão                            23245\n",
       "Cartões de Descontos                                                          28\n",
       "Comércio Eletrônico                                                         9348\n",
       "Construtoras, Incorporadoras e Imobiliárias                                  125\n",
       "Corretoras e Sociedades de Seguros, Capitalização e Previdência             1200\n",
       "Distribuidoras de Combustíveis                                                57\n",
       "Editoras                                                                      99\n",
       "Empresas de Intermediação de Serviços / Negócios                            4336\n",
       "Empresas de Pagamento Eletrônico                                            2213\n",
       "Empresas de Recuperação de Crédito                                          1167\n",
       "Energia Elétrica                                                            2556\n",
       "Entidades Sem Fins Lucrativos                                                 17\n",
       "Fabricantes - Eletroeletrônicos,  Produtos de Telefonia e Informática       2590\n",
       "Fabricantes - Eletroportáteis e Artigos de Uso Doméstico e Pessoal           159\n",
       "Fabricantes - Linha Branca                                                   332\n",
       "Fabricantes - Produtos Químicos e Farmacêuticos                                5\n",
       "Farmácias                                                                    100\n",
       "Hospitais, Clínicas, Laboratórios e Outros Serviços de Saúde                   1\n",
       "Material de Construção, Acabamento e Ferramentas                               4\n",
       "Montadoras, Concessionárias e Prestadores de Serviços Automotivos            332\n",
       "Móveis e Artigos de Decoração                                                 82\n",
       "Operadoras de Planos de Saúde e Administradoras de Benefícios                798\n",
       "Operadoras de Telecomunicações (Telefonia, Internet, TV por assinatura)    13648\n",
       "Perfumaria, Cosméticos e Higiene Pessoal                                     673\n",
       "Programas de Fidelidade                                                     1604\n",
       "Provedores de Conteúdo e Outros Serviços na Internet                          26\n",
       "Supermercados                                                                329\n",
       "Transporte Aéreo                                                            6202\n",
       "Transporte Terrestre                                                           4\n",
       "Varejo                                                                       813\n",
       "Vestuário, Calçados e Têxteis                                                  1\n",
       "Name: Segmento de Mercado, dtype: int64"
      ]
     },
     "execution_count": 217,
     "metadata": {},
     "output_type": "execute_result"
    }
   ],
   "source": [
    "df_rec = df.loc[df['Segmento de Mercado'].isin(x.keys())]\n",
    "df_rec = df_rec.loc[df_rec['Avaliação Reclamação'] == 'Não Resolvida']\n",
    "df_rec = df_rec.groupby('Segmento de Mercado')['Segmento de Mercado'].count()\n",
    "df_rec"
   ]
  },
  {
   "cell_type": "markdown",
   "id": "97a6c9eb",
   "metadata": {},
   "source": [
    "# Tempo de resposta"
   ]
  },
  {
   "cell_type": "code",
   "execution_count": 114,
   "id": "a4f450b1",
   "metadata": {},
   "outputs": [
    {
     "data": {
      "text/plain": [
       "count    419016.000000\n",
       "mean          6.422013\n",
       "std           3.238597\n",
       "min           0.000000\n",
       "25%           4.000000\n",
       "50%           7.000000\n",
       "75%           9.000000\n",
       "max          13.000000\n",
       "Name: Tempo Resposta, dtype: float64"
      ]
     },
     "execution_count": 114,
     "metadata": {},
     "output_type": "execute_result"
    }
   ],
   "source": [
    "df['Tempo Resposta'].describe()"
   ]
  },
  {
   "cell_type": "code",
   "execution_count": 209,
   "id": "7216bbe2",
   "metadata": {},
   "outputs": [
    {
     "name": "stderr",
     "output_type": "stream",
     "text": [
      "C:\\Users\\keter\\anaconda3\\lib\\site-packages\\seaborn\\distributions.py:2619: FutureWarning: `distplot` is a deprecated function and will be removed in a future version. Please adapt your code to use either `displot` (a figure-level function with similar flexibility) or `kdeplot` (an axes-level function for kernel density plots).\n",
      "  warnings.warn(msg, FutureWarning)\n"
     ]
    },
    {
     "data": {
      "text/plain": [
       "<AxesSubplot:xlabel='Tempo Resposta', ylabel='Density'>"
      ]
     },
     "execution_count": 209,
     "metadata": {},
     "output_type": "execute_result"
    },
    {
     "data": {
      "image/png": "[encoded data removed]",
      "text/plain": [
       "<Figure size 640x480 with 1 Axes>"
      ]
     },
     "metadata": {},
     "output_type": "display_data"
    }
   ],
   "source": [
    "sns.distplot(df['Tempo Resposta'], hist = False, kde = True)"
   ]
  },
  {
   "cell_type": "markdown",
   "id": "9567eb9c",
   "metadata": {},
   "source": [
    "# Problemas"
   ]
  },
  {
   "cell_type": "code",
   "execution_count": 123,
   "id": "99bb57fc",
   "metadata": {},
   "outputs": [
    {
     "data": {
      "text/plain": [
       "Cobrança / Contestação    188636\n",
       "Contrato / Oferta          80506\n",
       "Vício de Qualidade         55901\n",
       "Atendimento / SAC          48619\n",
       "Informação                 31784\n",
       "Entrega do Produto         15877\n",
       "Saúde e Segurança           2068\n",
       "Name: Grupo Problema, dtype: int64"
      ]
     },
     "execution_count": 123,
     "metadata": {},
     "output_type": "execute_result"
    }
   ],
   "source": [
    "problemas = df['Grupo Problema'].value_counts()\n",
    "problemas "
   ]
  },
  {
   "cell_type": "code",
   "execution_count": 144,
   "id": "a6787a0a",
   "metadata": {},
   "outputs": [
    {
     "data": {
      "text/plain": [
       "<AxesSubplot:>"
      ]
     },
     "execution_count": 144,
     "metadata": {},
     "output_type": "execute_result"
    },
    {
     "data": {
      "image/png": "[encoded data removed]",
      "text/plain": [
       "<Figure size 432x288 with 1 Axes>"
      ]
     },
     "metadata": {
      "needs_background": "light"
     },
     "output_type": "display_data"
    }
   ],
   "source": [
    "problemas.plot.barh()"
   ]
  },
  {
   "cell_type": "markdown",
   "id": "aed1f816",
   "metadata": {},
   "source": [
    "1. Qual problema esta relacionado ao grupo Cobrança/Constatação?"
   ]
  },
  {
   "cell_type": "code",
   "execution_count": 125,
   "id": "218bf928",
   "metadata": {},
   "outputs": [
    {
     "data": {
      "text/plain": [
       "Cobrança indevida / abusiva para alterar ou cancelar o contrato                                           39060\n",
       "Cobrança por serviço/produto não contratado / não reconhecido / não solicitado                            27370\n",
       "Dificuldade / atraso na devolução de valores pagos / reembolso / retenção de valores                      22186\n",
       "Renegociação / parcelamento de dívida                                                                     19788\n",
       "Cobrança de tarifas, taxas, valores não previstos / não informados                                        15088\n",
       "Cobrança após cancelamento do serviço                                                                     10562\n",
       "Cálculo de juros, saldo devedor (contestação, solicitação de histórico, dúvidas)                           8743\n",
       "Cobrança em duplicidade / Cobrança referente a pagamento já efetuado                                       8553\n",
       "Cobrança por serviço não fornecido/ em desacordo com a utilização / fora do prazo                          8080\n",
       "Dificuldade para obter boleto de quitação ou informações acerca de cálculos, pagamentos, saldo devedor     5696\n",
       "Negativação indevida (SPC, Serasa, SCPC etc)                                                               4828\n",
       "Cobrança submetendo a ofensa, constrangimento ou ameaça                                                    4091\n",
       "Negativação indevida referente à pagamento já efetuado                                                     2945\n",
       "Negativação indevida - desconhece motivo e/ou fornecedor                                                   2440\n",
       "Cobrança de compra/saque não reconhecido                                                                   2009\n",
       "Negativação indevida referente a cobrança não reconhecida                                                  1710\n",
       "Cartão não solicitado - Envio ou cobrança                                                                  1104\n",
       "Cobrança adicional não informada previamente (frete, montagem, taxas)                                       992\n",
       "Negativação indevida (não cumprimento de acordo de parcelamento)                                            953\n",
       "Negativação indevida sem contratação do serviço  fraude bancária                                           748\n",
       "Cobrança de valor para a devolução do produto                                                               458\n",
       "Negativação indevida referente a tarifa, taxas não previstas contrato / serviço                             376\n",
       "Reajuste - Discordância / dúvida                                                                            266\n",
       "Cobrança indevida por excesso de bagagem                                                                    124\n",
       "Cobrança de valores não previstos / não informados (multa, encargos, honorários etc)                        122\n",
       "Reajuste  dúvida ou discordância (exceto idoso)                                                            100\n",
       "Busca e apreensão indevida                                                                                   87\n",
       "Imposição de multa indevida / abusiva (não prevista em contrato ou em valor diverso do contratado)           60\n",
       "Dificuldade na inclusão em tarifa social  recusa / falta de informação                                      50\n",
       "Reajuste - descumprimento do estatuto do idoso                                                               28\n",
       "Cobrança irregular de taxa condominial                                                                        8\n",
       "Cobrança irregular de taxa de corretagem                                                                      5\n",
       "Capitalização indevida de juros antes da entrega do imóvel                                                    5\n",
       "Imposição de caução                                                                                           1\n",
       "Name: Problema, dtype: int64"
      ]
     },
     "execution_count": 125,
     "metadata": {},
     "output_type": "execute_result"
    }
   ],
   "source": [
    "cobranca_contest = df.loc[df['Grupo Problema'] == 'Cobrança / Contestação'].Problema.value_counts()\n",
    "cobranca_contest"
   ]
  },
  {
   "cell_type": "markdown",
   "id": "949e05a7",
   "metadata": {},
   "source": [
    "# Segmento de mercado"
   ]
  },
  {
   "cell_type": "code",
   "execution_count": 127,
   "id": "796e9bd7",
   "metadata": {},
   "outputs": [
    {
     "data": {
      "text/plain": [
       "Operadoras de Telecomunicações (Telefonia, Internet, TV por assinatura)    146839\n",
       "Bancos, Financeiras e Administradoras de Cartão                            111728\n",
       "Comércio Eletrônico                                                         33066\n",
       "Bancos de Dados e Cadastros de Consumidores                                 27449\n",
       "Transporte Aéreo                                                            24315\n",
       "Empresas de Intermediação de Serviços / Negócios                            18298\n",
       "Empresas de Pagamento Eletrônico                                            10882\n",
       "Fabricantes - Eletroeletrônicos,  Produtos de Telefonia e Informática        8388\n",
       "Energia Elétrica                                                             6737\n",
       "Programas de Fidelidade                                                      5841\n",
       "Corretoras e Sociedades de Seguros, Capitalização e Previdência              4774\n",
       "Empresas de Recuperação de Crédito                                           3980\n",
       "Agências de Viagens                                                          3705\n",
       "Varejo                                                                       3450\n",
       "Operadoras de Planos de Saúde e Administradoras de Benefícios                2875\n",
       "Perfumaria, Cosméticos e Higiene Pessoal                                     2338\n",
       "Agua e Esgoto / Gás                                                          1796\n",
       "Fabricantes - Linha Branca                                                   1603\n",
       "Supermercados                                                                1324\n",
       "Fabricantes - Eletroportáteis e Artigos de Uso Doméstico e Pessoal            705\n",
       "Administradoras de Consórcios                                                 695\n",
       "Montadoras, Concessionárias e Prestadores de Serviços Automotivos             690\n",
       "Editoras                                                                      333\n",
       "Móveis e Artigos de Decoração                                                 323\n",
       "Farmácias                                                                     297\n",
       "Construtoras, Incorporadoras e Imobiliárias                                   278\n",
       "Artigos Esportivos                                                            183\n",
       "Distribuidoras de Combustíveis                                                134\n",
       "Provedores de Conteúdo e Outros Serviços na Internet                          126\n",
       "Cartões de Descontos                                                          121\n",
       "Entidades Sem Fins Lucrativos                                                  72\n",
       "Fabricantes - Produtos Químicos e Farmacêuticos                                13\n",
       "Material de Construção, Acabamento e Ferramentas                               12\n",
       "Transporte Terrestre                                                           10\n",
       "Vestuário, Calçados e Têxteis                                                   6\n",
       "Estabelecimentos de Ensino                                                      4\n",
       "Hospitais, Clínicas, Laboratórios e Outros Serviços de Saúde                    1\n",
       "Name: Segmento de Mercado, dtype: int64"
      ]
     },
     "execution_count": 127,
     "metadata": {},
     "output_type": "execute_result"
    }
   ],
   "source": [
    "mercado = df['Segmento de Mercado'].value_counts()\n",
    "mercado"
   ]
  },
  {
   "cell_type": "markdown",
   "id": "bfc8ba2e",
   "metadata": {},
   "source": [
    "# Empresas com mais reclamações"
   ]
  },
  {
   "cell_type": "code",
   "execution_count": 186,
   "id": "db18f95e",
   "metadata": {},
   "outputs": [
    {
     "data": {
      "text/plain": [
       "Vivo - Telefônica (GVT)      36847\n",
       "Tim                          25739\n",
       "Serasa Experian              24109\n",
       "NET                          20938\n",
       "Oi Fixo                      20037\n",
       "                             ...  \n",
       "Unimed Planalto Norte            1\n",
       "Unimed Noroeste do Paraná        1\n",
       "Termolar                         1\n",
       "Mapfre Capitalização             1\n",
       "BeeFitness.com.br                1\n",
       "Name: Nome Fantasia, Length: 529, dtype: int64"
      ]
     },
     "execution_count": 186,
     "metadata": {},
     "output_type": "execute_result"
    }
   ],
   "source": [
    "df['Nome Fantasia'].value_counts()"
   ]
  },
  {
   "cell_type": "code",
   "execution_count": 178,
   "id": "e9a3f9ed",
   "metadata": {},
   "outputs": [
    {
     "data": {
      "image/png": "[encoded data removed]",
      "text/plain": [
       "<Figure size 640x480 with 1 Axes>"
      ]
     },
     "metadata": {},
     "output_type": "display_data"
    }
   ],
   "source": [
    "fig, ax = plt.subplots()\n",
    "\n",
    "#numero de colunas\n",
    "y_pos = np.arange(len(df['Nome Fantasia'].value_counts()[:10]))\n",
    "#valores \n",
    "values = df['Nome Fantasia'].value_counts()[:10]\n",
    "#titulos\n",
    "names = df['Nome Fantasia'].unique()[:10]\n",
    "\n",
    "#plot\n",
    "ax.barh(y_pos, values, color=\"black\")\n",
    "ax.set_yticks(y_pos)\n",
    "ax.set_yticklabels(names)\n",
    "ax.invert_yaxis()\n",
    "ax.set_title(\"Top 10 empresas\")\n",
    "ax.set_xlabel(\"Reclamações\")\n",
    "plt.show()"
   ]
  },
  {
   "cell_type": "markdown",
   "id": "a1285eff",
   "metadata": {},
   "source": [
    "# Relação Tempo de resposta x nota"
   ]
  },
  {
   "cell_type": "code",
   "execution_count": 191,
   "id": "718458d7",
   "metadata": {},
   "outputs": [
    {
     "data": {
      "text/html": [
       "<div>\n",
       "<style scoped>\n",
       "    .dataframe tbody tr th:only-of-type {\n",
       "        vertical-align: middle;\n",
       "    }\n",
       "\n",
       "    .dataframe tbody tr th {\n",
       "        vertical-align: top;\n",
       "    }\n",
       "\n",
       "    .dataframe thead th {\n",
       "        text-align: right;\n",
       "    }\n",
       "</style>\n",
       "<table border=\"1\" class=\"dataframe\">\n",
       "  <thead>\n",
       "    <tr style=\"text-align: right;\">\n",
       "      <th></th>\n",
       "      <th>Região</th>\n",
       "      <th>UF</th>\n",
       "      <th>Cidade</th>\n",
       "      <th>Sexo</th>\n",
       "      <th>Faixa Etária</th>\n",
       "      <th>Data Finalização</th>\n",
       "      <th>Tempo Resposta</th>\n",
       "      <th>Nome Fantasia</th>\n",
       "      <th>Segmento de Mercado</th>\n",
       "      <th>Área</th>\n",
       "      <th>Assunto</th>\n",
       "      <th>Grupo Problema</th>\n",
       "      <th>Problema</th>\n",
       "      <th>Como Comprou Contratou</th>\n",
       "      <th>Procurou Empresa</th>\n",
       "      <th>Respondida</th>\n",
       "      <th>Situação</th>\n",
       "      <th>Avaliação Reclamação</th>\n",
       "      <th>Nota do Consumidor</th>\n",
       "    </tr>\n",
       "  </thead>\n",
       "  <tbody>\n",
       "    <tr>\n",
       "      <th>0</th>\n",
       "      <td>NE</td>\n",
       "      <td>PE</td>\n",
       "      <td>Petrolina</td>\n",
       "      <td>M</td>\n",
       "      <td>entre 31 a 40 anos</td>\n",
       "      <td>05/07/2019</td>\n",
       "      <td>10.0</td>\n",
       "      <td>Banco Bradesco</td>\n",
       "      <td>Bancos, Financeiras e Administradoras de Cartão</td>\n",
       "      <td>Serviços Financeiros</td>\n",
       "      <td>Conta corrente / Salário / Poupança /Conta Apo...</td>\n",
       "      <td>Cobrança / Contestação</td>\n",
       "      <td>Cobrança submetendo a ofensa, constrangimento ...</td>\n",
       "      <td>Domicílio</td>\n",
       "      <td>S</td>\n",
       "      <td>S</td>\n",
       "      <td>Finalizada não avaliada</td>\n",
       "      <td>Não Avaliada</td>\n",
       "      <td>NaN</td>\n",
       "    </tr>\n",
       "    <tr>\n",
       "      <th>1</th>\n",
       "      <td>SE</td>\n",
       "      <td>SP</td>\n",
       "      <td>São Carlos</td>\n",
       "      <td>F</td>\n",
       "      <td>entre 51 a 60 anos</td>\n",
       "      <td>03/07/2019</td>\n",
       "      <td>NaN</td>\n",
       "      <td>Azul Linhas Aéreas</td>\n",
       "      <td>Transporte Aéreo</td>\n",
       "      <td>Transportes</td>\n",
       "      <td>Cargas e Encomendas</td>\n",
       "      <td>Vício de Qualidade</td>\n",
       "      <td>Extravio/ avaria de bagagem, carga, correspond...</td>\n",
       "      <td>Loja física</td>\n",
       "      <td>S</td>\n",
       "      <td>N</td>\n",
       "      <td>Finalizada não avaliada</td>\n",
       "      <td>Não Avaliada</td>\n",
       "      <td>NaN</td>\n",
       "    </tr>\n",
       "    <tr>\n",
       "      <th>2</th>\n",
       "      <td>SE</td>\n",
       "      <td>SP</td>\n",
       "      <td>São Paulo</td>\n",
       "      <td>M</td>\n",
       "      <td>entre 31 a 40 anos</td>\n",
       "      <td>03/07/2019</td>\n",
       "      <td>NaN</td>\n",
       "      <td>Samsung</td>\n",
       "      <td>Fabricantes - Eletroeletrônicos,  Produtos de ...</td>\n",
       "      <td>Produtos de Telefonia e Informática</td>\n",
       "      <td>Aparelho celular</td>\n",
       "      <td>Entrega do Produto</td>\n",
       "      <td>Produto entregue incompleto / diferente do  pe...</td>\n",
       "      <td>Ganhei de presente</td>\n",
       "      <td>S</td>\n",
       "      <td>N</td>\n",
       "      <td>Finalizada não avaliada</td>\n",
       "      <td>Não Avaliada</td>\n",
       "      <td>NaN</td>\n",
       "    </tr>\n",
       "    <tr>\n",
       "      <th>3</th>\n",
       "      <td>SE</td>\n",
       "      <td>RJ</td>\n",
       "      <td>Rio de Janeiro</td>\n",
       "      <td>F</td>\n",
       "      <td>entre 61 a 70 anos</td>\n",
       "      <td>02/07/2019</td>\n",
       "      <td>10.0</td>\n",
       "      <td>Tim</td>\n",
       "      <td>Operadoras de Telecomunicações (Telefonia, Int...</td>\n",
       "      <td>Produtos de Telefonia e Informática</td>\n",
       "      <td>Aparelho celular</td>\n",
       "      <td>Contrato / Oferta</td>\n",
       "      <td>Oferta não cumprida / serviço não fornecido/ v...</td>\n",
       "      <td>Internet</td>\n",
       "      <td>S</td>\n",
       "      <td>S</td>\n",
       "      <td>Finalizada não avaliada</td>\n",
       "      <td>Não Avaliada</td>\n",
       "      <td>NaN</td>\n",
       "    </tr>\n",
       "    <tr>\n",
       "      <th>4</th>\n",
       "      <td>NE</td>\n",
       "      <td>PE</td>\n",
       "      <td>Recife</td>\n",
       "      <td>M</td>\n",
       "      <td>entre 21 a 30 anos</td>\n",
       "      <td>04/07/2019</td>\n",
       "      <td>10.0</td>\n",
       "      <td>Vivo - Telefônica (GVT)</td>\n",
       "      <td>Operadoras de Telecomunicações (Telefonia, Int...</td>\n",
       "      <td>Telecomunicações</td>\n",
       "      <td>Internet Fixa</td>\n",
       "      <td>Vício de Qualidade</td>\n",
       "      <td>Suspensão ou desligamento indevido do serviço</td>\n",
       "      <td>Não comprei / contratei</td>\n",
       "      <td>S</td>\n",
       "      <td>S</td>\n",
       "      <td>Finalizada avaliada</td>\n",
       "      <td>Não Resolvida</td>\n",
       "      <td>1.0</td>\n",
       "    </tr>\n",
       "    <tr>\n",
       "      <th>...</th>\n",
       "      <td>...</td>\n",
       "      <td>...</td>\n",
       "      <td>...</td>\n",
       "      <td>...</td>\n",
       "      <td>...</td>\n",
       "      <td>...</td>\n",
       "      <td>...</td>\n",
       "      <td>...</td>\n",
       "      <td>...</td>\n",
       "      <td>...</td>\n",
       "      <td>...</td>\n",
       "      <td>...</td>\n",
       "      <td>...</td>\n",
       "      <td>...</td>\n",
       "      <td>...</td>\n",
       "      <td>...</td>\n",
       "      <td>...</td>\n",
       "      <td>...</td>\n",
       "      <td>...</td>\n",
       "    </tr>\n",
       "    <tr>\n",
       "      <th>423386</th>\n",
       "      <td>SE</td>\n",
       "      <td>SP</td>\n",
       "      <td>São Paulo</td>\n",
       "      <td>M</td>\n",
       "      <td>entre 31 a 40 anos</td>\n",
       "      <td>20/12/2019</td>\n",
       "      <td>3.0</td>\n",
       "      <td>Tim</td>\n",
       "      <td>Operadoras de Telecomunicações (Telefonia, Int...</td>\n",
       "      <td>Telecomunicações</td>\n",
       "      <td>Internet Fixa</td>\n",
       "      <td>Cobrança / Contestação</td>\n",
       "      <td>Cobrança após cancelamento do serviço</td>\n",
       "      <td>Telefone</td>\n",
       "      <td>S</td>\n",
       "      <td>S</td>\n",
       "      <td>Finalizada avaliada</td>\n",
       "      <td>Não Resolvida</td>\n",
       "      <td>1.0</td>\n",
       "    </tr>\n",
       "    <tr>\n",
       "      <th>423387</th>\n",
       "      <td>SE</td>\n",
       "      <td>SP</td>\n",
       "      <td>São Paulo</td>\n",
       "      <td>F</td>\n",
       "      <td>entre 31 a 40 anos</td>\n",
       "      <td>27/12/2019</td>\n",
       "      <td>3.0</td>\n",
       "      <td>Tim</td>\n",
       "      <td>Operadoras de Telecomunicações (Telefonia, Int...</td>\n",
       "      <td>Telecomunicações</td>\n",
       "      <td>Telefonia Móvel Pré-paga</td>\n",
       "      <td>Cobrança / Contestação</td>\n",
       "      <td>Negativação indevida (SPC, Serasa, SCPC etc)</td>\n",
       "      <td>Internet</td>\n",
       "      <td>S</td>\n",
       "      <td>S</td>\n",
       "      <td>Finalizada avaliada</td>\n",
       "      <td>Resolvida</td>\n",
       "      <td>4.0</td>\n",
       "    </tr>\n",
       "    <tr>\n",
       "      <th>423388</th>\n",
       "      <td>SE</td>\n",
       "      <td>RJ</td>\n",
       "      <td>São João de Meriti</td>\n",
       "      <td>F</td>\n",
       "      <td>entre 61 a 70 anos</td>\n",
       "      <td>21/12/2019</td>\n",
       "      <td>2.0</td>\n",
       "      <td>Mercado Pago</td>\n",
       "      <td>Empresas de Pagamento Eletrônico</td>\n",
       "      <td>Serviços Financeiros</td>\n",
       "      <td>Serviço de pagamento online/ via celular/ maqu...</td>\n",
       "      <td>Cobrança / Contestação</td>\n",
       "      <td>Cobrança de tarifas, taxas, valores não previs...</td>\n",
       "      <td>Internet</td>\n",
       "      <td>S</td>\n",
       "      <td>S</td>\n",
       "      <td>Finalizada não avaliada</td>\n",
       "      <td>Não Avaliada</td>\n",
       "      <td>NaN</td>\n",
       "    </tr>\n",
       "    <tr>\n",
       "      <th>423389</th>\n",
       "      <td>SE</td>\n",
       "      <td>SP</td>\n",
       "      <td>Rio Claro</td>\n",
       "      <td>M</td>\n",
       "      <td>entre 21 a 30 anos</td>\n",
       "      <td>27/12/2019</td>\n",
       "      <td>7.0</td>\n",
       "      <td>Tim</td>\n",
       "      <td>Operadoras de Telecomunicações (Telefonia, Int...</td>\n",
       "      <td>Telecomunicações</td>\n",
       "      <td>Telefonia Móvel Pós-paga</td>\n",
       "      <td>Cobrança / Contestação</td>\n",
       "      <td>Cobrança após cancelamento do serviço</td>\n",
       "      <td>Loja física</td>\n",
       "      <td>N</td>\n",
       "      <td>S</td>\n",
       "      <td>Finalizada avaliada</td>\n",
       "      <td>Resolvida</td>\n",
       "      <td>5.0</td>\n",
       "    </tr>\n",
       "    <tr>\n",
       "      <th>423390</th>\n",
       "      <td>S</td>\n",
       "      <td>PR</td>\n",
       "      <td>Turvo</td>\n",
       "      <td>F</td>\n",
       "      <td>entre 21 a 30 anos</td>\n",
       "      <td>26/12/2019</td>\n",
       "      <td>2.0</td>\n",
       "      <td>Tim</td>\n",
       "      <td>Operadoras de Telecomunicações (Telefonia, Int...</td>\n",
       "      <td>Telecomunicações</td>\n",
       "      <td>Telefonia Móvel Pré-paga</td>\n",
       "      <td>Vício de Qualidade</td>\n",
       "      <td>Funcionamento inadequado do serviço (má qualid...</td>\n",
       "      <td>Loja física</td>\n",
       "      <td>N</td>\n",
       "      <td>S</td>\n",
       "      <td>Finalizada não avaliada</td>\n",
       "      <td>Não Avaliada</td>\n",
       "      <td>NaN</td>\n",
       "    </tr>\n",
       "  </tbody>\n",
       "</table>\n",
       "<p>423391 rows × 19 columns</p>\n",
       "</div>"
      ],
      "text/plain": [
       "       Região  UF              Cidade Sexo        Faixa Etária  \\\n",
       "0          NE  PE           Petrolina    M  entre 31 a 40 anos   \n",
       "1          SE  SP          São Carlos    F  entre 51 a 60 anos   \n",
       "2          SE  SP           São Paulo    M  entre 31 a 40 anos   \n",
       "3          SE  RJ      Rio de Janeiro    F  entre 61 a 70 anos   \n",
       "4          NE  PE              Recife    M  entre 21 a 30 anos   \n",
       "...       ...  ..                 ...  ...                 ...   \n",
       "423386     SE  SP           São Paulo    M  entre 31 a 40 anos   \n",
       "423387     SE  SP           São Paulo    F  entre 31 a 40 anos   \n",
       "423388     SE  RJ  São João de Meriti    F  entre 61 a 70 anos   \n",
       "423389     SE  SP           Rio Claro    M  entre 21 a 30 anos   \n",
       "423390     S   PR               Turvo    F  entre 21 a 30 anos   \n",
       "\n",
       "       Data Finalização  Tempo Resposta            Nome Fantasia  \\\n",
       "0            05/07/2019            10.0           Banco Bradesco   \n",
       "1            03/07/2019             NaN       Azul Linhas Aéreas   \n",
       "2            03/07/2019             NaN                  Samsung   \n",
       "3            02/07/2019            10.0                      Tim   \n",
       "4            04/07/2019            10.0  Vivo - Telefônica (GVT)   \n",
       "...                 ...             ...                      ...   \n",
       "423386       20/12/2019             3.0                      Tim   \n",
       "423387       27/12/2019             3.0                      Tim   \n",
       "423388       21/12/2019             2.0             Mercado Pago   \n",
       "423389       27/12/2019             7.0                      Tim   \n",
       "423390       26/12/2019             2.0                      Tim   \n",
       "\n",
       "                                      Segmento de Mercado  \\\n",
       "0         Bancos, Financeiras e Administradoras de Cartão   \n",
       "1                                        Transporte Aéreo   \n",
       "2       Fabricantes - Eletroeletrônicos,  Produtos de ...   \n",
       "3       Operadoras de Telecomunicações (Telefonia, Int...   \n",
       "4       Operadoras de Telecomunicações (Telefonia, Int...   \n",
       "...                                                   ...   \n",
       "423386  Operadoras de Telecomunicações (Telefonia, Int...   \n",
       "423387  Operadoras de Telecomunicações (Telefonia, Int...   \n",
       "423388                   Empresas de Pagamento Eletrônico   \n",
       "423389  Operadoras de Telecomunicações (Telefonia, Int...   \n",
       "423390  Operadoras de Telecomunicações (Telefonia, Int...   \n",
       "\n",
       "                                       Área  \\\n",
       "0                      Serviços Financeiros   \n",
       "1                               Transportes   \n",
       "2       Produtos de Telefonia e Informática   \n",
       "3       Produtos de Telefonia e Informática   \n",
       "4                          Telecomunicações   \n",
       "...                                     ...   \n",
       "423386                     Telecomunicações   \n",
       "423387                     Telecomunicações   \n",
       "423388                 Serviços Financeiros   \n",
       "423389                     Telecomunicações   \n",
       "423390                     Telecomunicações   \n",
       "\n",
       "                                                  Assunto  \\\n",
       "0       Conta corrente / Salário / Poupança /Conta Apo...   \n",
       "1                                     Cargas e Encomendas   \n",
       "2                                        Aparelho celular   \n",
       "3                                        Aparelho celular   \n",
       "4                                           Internet Fixa   \n",
       "...                                                   ...   \n",
       "423386                                      Internet Fixa   \n",
       "423387                           Telefonia Móvel Pré-paga   \n",
       "423388  Serviço de pagamento online/ via celular/ maqu...   \n",
       "423389                           Telefonia Móvel Pós-paga   \n",
       "423390                           Telefonia Móvel Pré-paga   \n",
       "\n",
       "                Grupo Problema  \\\n",
       "0       Cobrança / Contestação   \n",
       "1           Vício de Qualidade   \n",
       "2           Entrega do Produto   \n",
       "3            Contrato / Oferta   \n",
       "4           Vício de Qualidade   \n",
       "...                        ...   \n",
       "423386  Cobrança / Contestação   \n",
       "423387  Cobrança / Contestação   \n",
       "423388  Cobrança / Contestação   \n",
       "423389  Cobrança / Contestação   \n",
       "423390      Vício de Qualidade   \n",
       "\n",
       "                                                 Problema  \\\n",
       "0       Cobrança submetendo a ofensa, constrangimento ...   \n",
       "1       Extravio/ avaria de bagagem, carga, correspond...   \n",
       "2       Produto entregue incompleto / diferente do  pe...   \n",
       "3       Oferta não cumprida / serviço não fornecido/ v...   \n",
       "4           Suspensão ou desligamento indevido do serviço   \n",
       "...                                                   ...   \n",
       "423386              Cobrança após cancelamento do serviço   \n",
       "423387       Negativação indevida (SPC, Serasa, SCPC etc)   \n",
       "423388  Cobrança de tarifas, taxas, valores não previs...   \n",
       "423389              Cobrança após cancelamento do serviço   \n",
       "423390  Funcionamento inadequado do serviço (má qualid...   \n",
       "\n",
       "         Como Comprou Contratou Procurou Empresa Respondida  \\\n",
       "0                     Domicílio                S          S   \n",
       "1                   Loja física                S          N   \n",
       "2            Ganhei de presente                S          N   \n",
       "3                      Internet                S          S   \n",
       "4       Não comprei / contratei                S          S   \n",
       "...                         ...              ...        ...   \n",
       "423386                 Telefone                S          S   \n",
       "423387                 Internet                S          S   \n",
       "423388                 Internet                S          S   \n",
       "423389              Loja física                N          S   \n",
       "423390              Loja física                N          S   \n",
       "\n",
       "                       Situação Avaliação Reclamação  Nota do Consumidor  \n",
       "0       Finalizada não avaliada         Não Avaliada                 NaN  \n",
       "1       Finalizada não avaliada         Não Avaliada                 NaN  \n",
       "2       Finalizada não avaliada         Não Avaliada                 NaN  \n",
       "3       Finalizada não avaliada         Não Avaliada                 NaN  \n",
       "4           Finalizada avaliada        Não Resolvida                 1.0  \n",
       "...                         ...                  ...                 ...  \n",
       "423386      Finalizada avaliada        Não Resolvida                 1.0  \n",
       "423387      Finalizada avaliada            Resolvida                 4.0  \n",
       "423388  Finalizada não avaliada         Não Avaliada                 NaN  \n",
       "423389      Finalizada avaliada            Resolvida                 5.0  \n",
       "423390  Finalizada não avaliada         Não Avaliada                 NaN  \n",
       "\n",
       "[423391 rows x 19 columns]"
      ]
     },
     "execution_count": 191,
     "metadata": {},
     "output_type": "execute_result"
    }
   ],
   "source": [
    "df_t = df.drop('Total', axis=1)\n",
    "df_t"
   ]
  },
  {
   "cell_type": "code",
   "execution_count": 192,
   "id": "afc37741",
   "metadata": {},
   "outputs": [
    {
     "data": {
      "text/html": [
       "<style type=\"text/css\">\n",
       "#T_6c9cf_row0_col0, #T_6c9cf_row1_col1 {\n",
       "  background-color: #023858;\n",
       "  color: #f1f1f1;\n",
       "}\n",
       "#T_6c9cf_row0_col1, #T_6c9cf_row1_col0 {\n",
       "  background-color: #fff7fb;\n",
       "  color: #000000;\n",
       "}\n",
       "</style>\n",
       "<table id=\"T_6c9cf_\">\n",
       "  <thead>\n",
       "    <tr>\n",
       "      <th class=\"blank level0\" >&nbsp;</th>\n",
       "      <th class=\"col_heading level0 col0\" >Tempo Resposta</th>\n",
       "      <th class=\"col_heading level0 col1\" >Nota do Consumidor</th>\n",
       "    </tr>\n",
       "  </thead>\n",
       "  <tbody>\n",
       "    <tr>\n",
       "      <th id=\"T_6c9cf_level0_row0\" class=\"row_heading level0 row0\" >Tempo Resposta</th>\n",
       "      <td id=\"T_6c9cf_row0_col0\" class=\"data row0 col0\" >1.000000</td>\n",
       "      <td id=\"T_6c9cf_row0_col1\" class=\"data row0 col1\" >-0.054442</td>\n",
       "    </tr>\n",
       "    <tr>\n",
       "      <th id=\"T_6c9cf_level0_row1\" class=\"row_heading level0 row1\" >Nota do Consumidor</th>\n",
       "      <td id=\"T_6c9cf_row1_col0\" class=\"data row1 col0\" >-0.054442</td>\n",
       "      <td id=\"T_6c9cf_row1_col1\" class=\"data row1 col1\" >1.000000</td>\n",
       "    </tr>\n",
       "  </tbody>\n",
       "</table>\n"
      ],
      "text/plain": [
       "<pandas.io.formats.style.Styler at 0x29702b38af0>"
      ]
     },
     "execution_count": 192,
     "metadata": {},
     "output_type": "execute_result"
    }
   ],
   "source": [
    "#corr -> Calcular a correlação de colunas em pares, excluindo valores NA/nulos.\n",
    "\n",
    "corr = df_t.corr()\n",
    "corr\n",
    "corr.style.background_gradient()"
   ]
  },
  {
   "cell_type": "code",
   "execution_count": 207,
   "id": "2074178e",
   "metadata": {},
   "outputs": [
    {
     "name": "stderr",
     "output_type": "stream",
     "text": [
      "C:\\Users\\keter\\anaconda3\\lib\\site-packages\\seaborn\\distributions.py:2619: FutureWarning: `distplot` is a deprecated function and will be removed in a future version. Please adapt your code to use either `displot` (a figure-level function with similar flexibility) or `kdeplot` (an axes-level function for kernel density plots).\n",
      "  warnings.warn(msg, FutureWarning)\n"
     ]
    },
    {
     "data": {
      "text/plain": [
       "<AxesSubplot:xlabel='Nota do Consumidor', ylabel='Density'>"
      ]
     },
     "execution_count": 207,
     "metadata": {},
     "output_type": "execute_result"
    },
    {
     "data": {
      "image/png": "[encoded data removed]",
      "text/plain": [
       "<Figure size 640x480 with 1 Axes>"
      ]
     },
     "metadata": {},
     "output_type": "display_data"
    }
   ],
   "source": [
    "sns.distplot(df['Nota do Consumidor'], hist = False, kde = True)"
   ]
  },
  {
   "cell_type": "code",
   "execution_count": 202,
   "id": "bfb179f3",
   "metadata": {},
   "outputs": [],
   "source": [
    "notas = df['Nota do Consumidor'].value_counts()"
   ]
  },
  {
   "cell_type": "code",
   "execution_count": 204,
   "id": "41ff3763",
   "metadata": {},
   "outputs": [
    {
     "data": {
      "text/plain": [
       "<AxesSubplot:>"
      ]
     },
     "execution_count": 204,
     "metadata": {},
     "output_type": "execute_result"
    },
    {
     "data": {
      "image/png": "[encoded data removed]",
      "text/plain": [
       "<Figure size 640x480 with 1 Axes>"
      ]
     },
     "metadata": {},
     "output_type": "display_data"
    }
   ],
   "source": [
    "notas.plot.bar()"
   ]
  },
  {
   "cell_type": "code",
   "execution_count": null,
   "id": "a3cf0e0a",
   "metadata": {},
   "outputs": [],
   "source": []
  }
 ],
 "metadata": {
  "kernelspec": {
   "display_name": "Python 3 (ipykernel)",
   "language": "python",
   "name": "python3"
  },
  "language_info": {
   "codemirror_mode": {
    "name": "ipython",
    "version": 3
   },
   "file_extension": ".py",
   "mimetype": "text/x-python",
   "name": "python",
   "nbconvert_exporter": "python",
   "pygments_lexer": "ipython3",
   "version": "3.9.7"
  }
 },
 "nbformat": 4,
 "nbformat_minor": 5
}
